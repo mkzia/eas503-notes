{
 "cells": [
  {
   "cell_type": "markdown",
   "id": "19442025",
   "metadata": {},
   "source": [
    "# Conditionals\n",
    "\n",
    "```\n",
    "CASE\n",
    "    WHEN C1 THEN E1\n",
    "    WHEN C2 THEN E2\n",
    "    ...\n",
    "    WHEN CN THEN EN\n",
    "    [ELSE ED]\n",
    "END [COLUMN_NAME]\n",
    "```\n",
    "\n",
    "```SQL\n",
    "SELECT \n",
    "\tCASE\n",
    "\t\tWHEN strftime('%m', AdmissionStartDate) = '01' THEN 'January'\n",
    "\t\tWHEN strftime('%m', AdmissionStartDate) = '02' THEN 'February'\n",
    "\t\tWHEN strftime('%m', AdmissionStartDate) = '03' THEN 'March'\n",
    "\t\tWHEN strftime('%m', AdmissionStartDate) = '04' THEN 'April'\n",
    "\t\tWHEN strftime('%m', AdmissionStartDate) = '05' THEN 'May'\n",
    "\t\tWHEN strftime('%m', AdmissionStartDate) = '06' THEN 'June'\n",
    "\t\tWHEN strftime('%m', AdmissionStartDate) = '07' THEN 'July'\n",
    "\t\tWHEN strftime('%m', AdmissionStartDate) = '08' THEN 'August'\n",
    "\t\tWHEN strftime('%m', AdmissionStartDate) = '09' THEN 'September'\n",
    "\t\tWHEN strftime('%m', AdmissionStartDate) = '10' THEN 'October'\n",
    "\t\tWHEN strftime('%m', AdmissionStartDate) = '11' THEN 'November'\n",
    "\t\tWHEN strftime('%m', AdmissionStartDate) = '12' THEN 'Decemeber'\n",
    "\tEND AdmissionMonth,\n",
    "\tcount(*) AddmissionCount\n",
    "FROM \n",
    "\tAdmissionsCorePopulatedTable\n",
    "Group BY AdmissionMonth\n",
    "ORDER BY -AddmissionCount\n",
    "```"
   ]
  },
  {
   "cell_type": "code",
   "execution_count": 1,
   "id": "e3ff9c09",
   "metadata": {
    "tags": [
     "hide-input",
     "output_scroll"
    ]
   },
   "outputs": [
    {
     "data": {
      "text/html": [
       "<style type=\"text/css\">\n",
       "</style>\n",
       "<table id=\"T_32cb5_\" style=\"font-size: 12px\">\n",
       "  <thead>\n",
       "    <tr>\n",
       "      <th class=\"blank level0\" >&nbsp;</th>\n",
       "      <th class=\"col_heading level0 col0\" >AdmissionMonth</th>\n",
       "      <th class=\"col_heading level0 col1\" >AddmissionCount</th>\n",
       "    </tr>\n",
       "  </thead>\n",
       "  <tbody>\n",
       "    <tr>\n",
       "      <th id=\"T_32cb5_level0_row0\" class=\"row_heading level0 row0\" >0</th>\n",
       "      <td id=\"T_32cb5_row0_col0\" class=\"data row0 col0\" >November</td>\n",
       "      <td id=\"T_32cb5_row0_col1\" class=\"data row0 col1\" >38</td>\n",
       "    </tr>\n",
       "    <tr>\n",
       "      <th id=\"T_32cb5_level0_row1\" class=\"row_heading level0 row1\" >1</th>\n",
       "      <td id=\"T_32cb5_row1_col0\" class=\"data row1 col0\" >September</td>\n",
       "      <td id=\"T_32cb5_row1_col1\" class=\"data row1 col1\" >38</td>\n",
       "    </tr>\n",
       "    <tr>\n",
       "      <th id=\"T_32cb5_level0_row2\" class=\"row_heading level0 row2\" >2</th>\n",
       "      <td id=\"T_32cb5_row2_col0\" class=\"data row2 col0\" >Decemeber</td>\n",
       "      <td id=\"T_32cb5_row2_col1\" class=\"data row2 col1\" >36</td>\n",
       "    </tr>\n",
       "    <tr>\n",
       "      <th id=\"T_32cb5_level0_row3\" class=\"row_heading level0 row3\" >3</th>\n",
       "      <td id=\"T_32cb5_row3_col0\" class=\"data row3 col0\" >July</td>\n",
       "      <td id=\"T_32cb5_row3_col1\" class=\"data row3 col1\" >34</td>\n",
       "    </tr>\n",
       "    <tr>\n",
       "      <th id=\"T_32cb5_level0_row4\" class=\"row_heading level0 row4\" >4</th>\n",
       "      <td id=\"T_32cb5_row4_col0\" class=\"data row4 col0\" >February</td>\n",
       "      <td id=\"T_32cb5_row4_col1\" class=\"data row4 col1\" >31</td>\n",
       "    </tr>\n",
       "    <tr>\n",
       "      <th id=\"T_32cb5_level0_row5\" class=\"row_heading level0 row5\" >5</th>\n",
       "      <td id=\"T_32cb5_row5_col0\" class=\"data row5 col0\" >May</td>\n",
       "      <td id=\"T_32cb5_row5_col1\" class=\"data row5 col1\" >30</td>\n",
       "    </tr>\n",
       "    <tr>\n",
       "      <th id=\"T_32cb5_level0_row6\" class=\"row_heading level0 row6\" >6</th>\n",
       "      <td id=\"T_32cb5_row6_col0\" class=\"data row6 col0\" >January</td>\n",
       "      <td id=\"T_32cb5_row6_col1\" class=\"data row6 col1\" >29</td>\n",
       "    </tr>\n",
       "    <tr>\n",
       "      <th id=\"T_32cb5_level0_row7\" class=\"row_heading level0 row7\" >7</th>\n",
       "      <td id=\"T_32cb5_row7_col0\" class=\"data row7 col0\" >April</td>\n",
       "      <td id=\"T_32cb5_row7_col1\" class=\"data row7 col1\" >28</td>\n",
       "    </tr>\n",
       "    <tr>\n",
       "      <th id=\"T_32cb5_level0_row8\" class=\"row_heading level0 row8\" >8</th>\n",
       "      <td id=\"T_32cb5_row8_col0\" class=\"data row8 col0\" >June</td>\n",
       "      <td id=\"T_32cb5_row8_col1\" class=\"data row8 col1\" >28</td>\n",
       "    </tr>\n",
       "    <tr>\n",
       "      <th id=\"T_32cb5_level0_row9\" class=\"row_heading level0 row9\" >9</th>\n",
       "      <td id=\"T_32cb5_row9_col0\" class=\"data row9 col0\" >March</td>\n",
       "      <td id=\"T_32cb5_row9_col1\" class=\"data row9 col1\" >28</td>\n",
       "    </tr>\n",
       "    <tr>\n",
       "      <th id=\"T_32cb5_level0_row10\" class=\"row_heading level0 row10\" >10</th>\n",
       "      <td id=\"T_32cb5_row10_col0\" class=\"data row10 col0\" >October</td>\n",
       "      <td id=\"T_32cb5_row10_col1\" class=\"data row10 col1\" >27</td>\n",
       "    </tr>\n",
       "    <tr>\n",
       "      <th id=\"T_32cb5_level0_row11\" class=\"row_heading level0 row11\" >11</th>\n",
       "      <td id=\"T_32cb5_row11_col0\" class=\"data row11 col0\" >August</td>\n",
       "      <td id=\"T_32cb5_row11_col1\" class=\"data row11 col1\" >25</td>\n",
       "    </tr>\n",
       "  </tbody>\n",
       "</table>\n"
      ],
      "text/plain": [
       "<pandas.io.formats.style.Styler at 0x7fef3f2c49a0>"
      ]
     },
     "execution_count": 1,
     "metadata": {},
     "output_type": "execute_result"
    }
   ],
   "source": [
    "import sqlite3\n",
    "import pandas as pd\n",
    "\n",
    "conn = sqlite3.connect('100_patients.db')\n",
    "\n",
    "sql_statement = \"\"\"\n",
    "SELECT \n",
    "\tCASE\n",
    "\t\tWHEN strftime('%m', AdmissionStartDate) = '01' THEN 'January'\n",
    "\t\tWHEN strftime('%m', AdmissionStartDate) = '02' THEN 'February'\n",
    "\t\tWHEN strftime('%m', AdmissionStartDate) = '03' THEN 'March'\n",
    "\t\tWHEN strftime('%m', AdmissionStartDate) = '04' THEN 'April'\n",
    "\t\tWHEN strftime('%m', AdmissionStartDate) = '05' THEN 'May'\n",
    "\t\tWHEN strftime('%m', AdmissionStartDate) = '06' THEN 'June'\n",
    "\t\tWHEN strftime('%m', AdmissionStartDate) = '07' THEN 'July'\n",
    "\t\tWHEN strftime('%m', AdmissionStartDate) = '08' THEN 'August'\n",
    "\t\tWHEN strftime('%m', AdmissionStartDate) = '09' THEN 'September'\n",
    "\t\tWHEN strftime('%m', AdmissionStartDate) = '10' THEN 'October'\n",
    "\t\tWHEN strftime('%m', AdmissionStartDate) = '11' THEN 'November'\n",
    "\t\tWHEN strftime('%m', AdmissionStartDate) = '12' THEN 'Decemeber'\n",
    "\tEND AdmissionMonth,\n",
    "\tcount(*) AddmissionCount\n",
    "FROM \n",
    "\tAdmissionsCorePopulatedTable\n",
    "Group BY AdmissionMonth\n",
    "ORDER BY -AddmissionCount\n",
    "\"\"\"\n",
    "df = pd.read_sql_query(sql_statement, conn)\n",
    "df.style.set_table_attributes('style=\"font-size: 12px\"')"
   ]
  }
 ],
 "metadata": {
  "jupytext": {
   "formats": "md:myst",
   "text_representation": {
    "extension": ".md",
    "format_name": "myst"
   }
  },
  "kernelspec": {
   "display_name": "Python 3",
   "language": "python",
   "name": "python3"
  },
  "language_info": {
   "codemirror_mode": {
    "name": "ipython",
    "version": 3
   },
   "file_extension": ".py",
   "mimetype": "text/x-python",
   "name": "python",
   "nbconvert_exporter": "python",
   "pygments_lexer": "ipython3",
   "version": "3.9.7"
  },
  "source_map": [
   11,
   48
  ]
 },
 "nbformat": 4,
 "nbformat_minor": 5
}