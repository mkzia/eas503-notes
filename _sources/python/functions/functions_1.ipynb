{
 "cells": [
  {
   "cell_type": "markdown",
   "id": "3f153f80",
   "metadata": {},
   "source": [
    "# Functions\n",
    "\n",
    "What is a function?\n",
    "- Functions are subprograms -- they are a sequence of of statements that have a name\n",
    "- Functions can be executed at any point by using their name \n",
    "- Functions remove duplicated code\n",
    "- Functions can call other functions\n",
    "- Functions can OPTIONALLY take argument(s) that they can use inside the function\n",
    "- Functions can OPTIONALLY return value(s)\n",
    "\n",
    "The general form of a function call is as follows:\n",
    "```\n",
    "<<function_name>>(<<arguments>>)\n",
    "```\n",
    "\n",
    "\n",
    "## Built-in functions\n",
    "`abs(-9)` -- `-9` is the argument. Arguments appear between the parenthesis after the function name. Arguments are evaluated left to right."
   ]
  },
  {
   "cell_type": "code",
   "execution_count": 1,
   "id": "495fbe8b",
   "metadata": {},
   "outputs": [
    {
     "data": {
      "text/plain": [
       "7"
      ]
     },
     "execution_count": 1,
     "metadata": {},
     "output_type": "execute_result"
    }
   ],
   "source": [
    "day_temperature = 3\n",
    "night_temperature = 10\n",
    "abs(day_temperature - night_temperature)"
   ]
  },
  {
   "cell_type": "markdown",
   "id": "738f45d1",
   "metadata": {},
   "source": [
    "Because function calls produce values, they can be used in expressions:"
   ]
  },
  {
   "cell_type": "code",
   "execution_count": 2,
   "id": "a08e95ac",
   "metadata": {},
   "outputs": [
    {
     "data": {
      "text/plain": [
       "10.3"
      ]
     },
     "execution_count": 2,
     "metadata": {},
     "output_type": "execute_result"
    }
   ],
   "source": [
    "abs(-7) + abs(3.3)"
   ]
  },
  {
   "cell_type": "markdown",
   "id": "ce529d07",
   "metadata": {},
   "source": [
    "![subexpression](./subexpression.png)\n",
    "\n",
    "\n",
    "Functions to convert one type of variable to another"
   ]
  },
  {
   "cell_type": "code",
   "execution_count": 3,
   "id": "839a5bf1",
   "metadata": {},
   "outputs": [
    {
     "data": {
      "text/plain": [
       "34"
      ]
     },
     "execution_count": 3,
     "metadata": {},
     "output_type": "execute_result"
    }
   ],
   "source": [
    "int(34.6)"
   ]
  },
  {
   "cell_type": "code",
   "execution_count": 4,
   "id": "a022bfc6",
   "metadata": {},
   "outputs": [
    {
     "data": {
      "text/plain": [
       "-4"
      ]
     },
     "execution_count": 4,
     "metadata": {},
     "output_type": "execute_result"
    }
   ],
   "source": [
    "int(-4.3)"
   ]
  },
  {
   "cell_type": "code",
   "execution_count": 5,
   "id": "55e43ff9",
   "metadata": {},
   "outputs": [
    {
     "data": {
      "text/plain": [
       "21.0"
      ]
     },
     "execution_count": 5,
     "metadata": {},
     "output_type": "execute_result"
    }
   ],
   "source": [
    "float(21)"
   ]
  },
  {
   "cell_type": "code",
   "execution_count": 6,
   "id": "e0446937",
   "metadata": {},
   "outputs": [
    {
     "data": {
      "text/plain": [
       "'21'"
      ]
     },
     "execution_count": 6,
     "metadata": {},
     "output_type": "execute_result"
    }
   ],
   "source": [
    "str(21)"
   ]
  },
  {
   "cell_type": "markdown",
   "id": "035f6490",
   "metadata": {},
   "source": [
    "The Round function can round floats"
   ]
  },
  {
   "cell_type": "code",
   "execution_count": 7,
   "id": "9fe230a6",
   "metadata": {},
   "outputs": [
    {
     "data": {
      "text/plain": [
       "'21'"
      ]
     },
     "execution_count": 7,
     "metadata": {},
     "output_type": "execute_result"
    }
   ],
   "source": [
    "str(21)"
   ]
  },
  {
   "cell_type": "code",
   "execution_count": 8,
   "id": "62a90981",
   "metadata": {},
   "outputs": [
    {
     "data": {
      "text/plain": [
       "4"
      ]
     },
     "execution_count": 8,
     "metadata": {},
     "output_type": "execute_result"
    }
   ],
   "source": [
    "round(3.8)"
   ]
  },
  {
   "cell_type": "code",
   "execution_count": 9,
   "id": "74056e89",
   "metadata": {},
   "outputs": [
    {
     "data": {
      "text/plain": [
       "3"
      ]
     },
     "execution_count": 9,
     "metadata": {},
     "output_type": "execute_result"
    }
   ],
   "source": [
    "round(3.3)"
   ]
  },
  {
   "cell_type": "code",
   "execution_count": 10,
   "id": "93575c5c",
   "metadata": {},
   "outputs": [
    {
     "data": {
      "text/plain": [
       "4"
      ]
     },
     "execution_count": 10,
     "metadata": {},
     "output_type": "execute_result"
    }
   ],
   "source": [
    "round(3.5)"
   ]
  },
  {
   "cell_type": "code",
   "execution_count": 11,
   "id": "4105fb97",
   "metadata": {},
   "outputs": [
    {
     "data": {
      "text/plain": [
       "-3"
      ]
     },
     "execution_count": 11,
     "metadata": {},
     "output_type": "execute_result"
    }
   ],
   "source": [
    "round(-3.3)"
   ]
  },
  {
   "cell_type": "code",
   "execution_count": 12,
   "id": "10dc56cc",
   "metadata": {},
   "outputs": [
    {
     "data": {
      "text/plain": [
       "-4"
      ]
     },
     "execution_count": 12,
     "metadata": {},
     "output_type": "execute_result"
    }
   ],
   "source": [
    "round(-3.5)"
   ]
  },
  {
   "cell_type": "markdown",
   "id": "1d27a3ac",
   "metadata": {},
   "source": [
    "The round function can take an OPTIONAL second argument"
   ]
  },
  {
   "cell_type": "code",
   "execution_count": 13,
   "id": "9ff00aa2",
   "metadata": {},
   "outputs": [
    {
     "data": {
      "text/plain": [
       "3.14"
      ]
     },
     "execution_count": 13,
     "metadata": {},
     "output_type": "execute_result"
    }
   ],
   "source": [
    "round(3.141592653,2)"
   ]
  },
  {
   "cell_type": "markdown",
   "id": "33fa3b47",
   "metadata": {},
   "source": [
    "The `help(fxn)` function gives information about a function"
   ]
  },
  {
   "cell_type": "code",
   "execution_count": 14,
   "id": "ca1e99b3",
   "metadata": {},
   "outputs": [
    {
     "name": "stdout",
     "output_type": "stream",
     "text": [
      "Help on built-in function round in module builtins:\n",
      "\n",
      "round(number, ndigits=None)\n",
      "    Round a number to a given precision in decimal digits.\n",
      "    \n",
      "    The return value is an integer if ndigits is omitted or None.  Otherwise\n",
      "    the return value has the same type as the number.  ndigits may be negative.\n",
      "\n"
     ]
    }
   ],
   "source": [
    "help(round)\n"
   ]
  },
  {
   "cell_type": "code",
   "execution_count": 15,
   "id": "122ba544",
   "metadata": {},
   "outputs": [
    {
     "name": "stdout",
     "output_type": "stream",
     "text": [
      "Help on built-in function pow in module builtins:\n",
      "\n",
      "pow(base, exp, mod=None)\n",
      "    Equivalent to base**exp with 2 arguments or base**exp % mod with 3 arguments\n",
      "    \n",
      "    Some types, such as ints, are able to use a more efficient algorithm when\n",
      "    invoked using the three argument form.\n",
      "\n"
     ]
    }
   ],
   "source": [
    "help(pow)"
   ]
  },
  {
   "cell_type": "markdown",
   "id": "022faf13",
   "metadata": {},
   "source": [
    "Using the `pow` function"
   ]
  },
  {
   "cell_type": "code",
   "execution_count": 16,
   "id": "8a7d646d",
   "metadata": {},
   "outputs": [
    {
     "data": {
      "text/plain": [
       "16"
      ]
     },
     "execution_count": 16,
     "metadata": {},
     "output_type": "execute_result"
    }
   ],
   "source": [
    "pow(2, 4)"
   ]
  },
  {
   "cell_type": "code",
   "execution_count": 17,
   "id": "2e34a13c",
   "metadata": {},
   "outputs": [
    {
     "data": {
      "text/plain": [
       "1"
      ]
     },
     "execution_count": 17,
     "metadata": {},
     "output_type": "execute_result"
    }
   ],
   "source": [
    "pow(2, 4, 3)"
   ]
  },
  {
   "cell_type": "markdown",
   "id": "3fa735fa",
   "metadata": {},
   "source": [
    "We can also use function calls as arguments to other functions:"
   ]
  },
  {
   "cell_type": "code",
   "execution_count": 18,
   "id": "388d5ba4",
   "metadata": {},
   "outputs": [
    {
     "data": {
      "text/plain": [
       "16"
      ]
     },
     "execution_count": 18,
     "metadata": {},
     "output_type": "execute_result"
    }
   ],
   "source": [
    "pow(abs(-2), round(4.3))"
   ]
  },
  {
   "cell_type": "markdown",
   "id": "ab789205",
   "metadata": {},
   "source": [
    "Some other useful functions"
   ]
  },
  {
   "cell_type": "code",
   "execution_count": 19,
   "id": "bcdf786c",
   "metadata": {},
   "outputs": [
    {
     "data": {
      "text/plain": [
       "2"
      ]
     },
     "execution_count": 19,
     "metadata": {},
     "output_type": "execute_result"
    }
   ],
   "source": [
    "min(2, 3, 4)"
   ]
  },
  {
   "cell_type": "code",
   "execution_count": 20,
   "id": "db71908b",
   "metadata": {},
   "outputs": [
    {
     "ename": "SyntaxError",
     "evalue": "invalid syntax (3591153368.py, line 1)",
     "output_type": "error",
     "traceback": [
      "\u001b[0;36m  Input \u001b[0;32mIn [20]\u001b[0;36m\u001b[0m\n\u001b[0;31m    max(2, -3, 4, 7, -5)```\u001b[0m\n\u001b[0m                        ^\u001b[0m\n\u001b[0;31mSyntaxError\u001b[0m\u001b[0;31m:\u001b[0m invalid syntax\n"
     ]
    }
   ],
   "source": [
    "max(2, -3, 4, 7, -5)```\n",
    "\n",
    "```{code-cell} ipython3\n",
    "max(2, -3, min(4, 7), -5)"
   ]
  },
  {
   "cell_type": "markdown",
   "id": "b30b7dc2",
   "metadata": {},
   "source": [
    "Function objects have memory addresses just like variables:"
   ]
  },
  {
   "cell_type": "code",
   "execution_count": null,
   "id": "50b5ffd6",
   "metadata": {},
   "outputs": [],
   "source": [
    "id(-9)"
   ]
  },
  {
   "cell_type": "code",
   "execution_count": null,
   "id": "1de779dd",
   "metadata": {},
   "outputs": [],
   "source": [
    "id(23.1)"
   ]
  },
  {
   "cell_type": "code",
   "execution_count": null,
   "id": "cc5af1af",
   "metadata": {},
   "outputs": [],
   "source": [
    "show_size = 8.5\n",
    "id(show_size)"
   ]
  },
  {
   "cell_type": "code",
   "execution_count": null,
   "id": "b41671dd",
   "metadata": {},
   "outputs": [],
   "source": [
    "id(abs)"
   ]
  },
  {
   "cell_type": "code",
   "execution_count": null,
   "id": "e13bd2e7",
   "metadata": {},
   "outputs": [],
   "source": [
    "id(round)"
   ]
  },
  {
   "cell_type": "markdown",
   "id": "820df1a7",
   "metadata": {},
   "source": [
    "## Defining your own functions\n",
    "The built-in functions (e.g, type, print, input) that Python provides do basic tasks. We can write our own functions that can execute complicated sequence of instructions. \n",
    "\n",
    "https://www.mathsisfun.com/sets/function.html\n",
    "\n",
    "```python\n",
    "def f(x):\n",
    "    squared_x  = x * x\n",
    "    return squared_x\n",
    "```\n",
    "\n",
    "```python\n",
    "def f(x):\n",
    "    squared_x = x ** 2\n",
    "    return squared_x\n",
    "```\n",
    "\n",
    "```python\n",
    "def f(x):\n",
    "    squared_x = pow(x, 2)\n",
    "    return squared_x\n",
    "```\n",
    "\n",
    "```python\n",
    "def f(x):\n",
    "    return x**2\n",
    "```\n",
    "\n",
    "```python\n",
    "def f(x):\n",
    "    return pow(x, 2)\n",
    "```\n",
    "\n",
    "\n",
    "```python\n",
    "def convert_to_celsius(fahrenheit):\n",
    "    return (fahrenheit - 32) * 5 / 9\n",
    "\n",
    "convert_to_celsius(80)\n",
    "```\n",
    "\n",
    "- What is a function definition?\n",
    "  - A function definition is a kind of Python statement. The general form of a function definition is as follows:\n",
    "  ```\n",
    "    def <<function_name>>(<<parameters>>):\n",
    "    <<block>>\n",
    "  ```\n",
    "- What is a function header? First line of function definition.\n",
    "- What is a function body? What comes after the function definition and is indented by four spaces. \n",
    "- What is a return statement? ``return <<expression>>``\n",
    "\n",
    "\n",
    "![def_call](./def_call.png)\n",
    "\n",
    "\n",
    "## Local Variables"
   ]
  },
  {
   "cell_type": "code",
   "execution_count": null,
   "id": "552323a8",
   "metadata": {},
   "outputs": [],
   "source": [
    "def quadratic(a, b, c, x):\n",
    "    \"\"\"ax^2 + bx + c\"\"\"\n",
    "    first = a * x ** 2\n",
    "    second = b * x\n",
    "    third = c\n",
    "    return first + second + third\n",
    "quadratic(2, 3, 4, 0.5)\n",
    "quadratic(2, 3, 4, 1.5)"
   ]
  },
  {
   "cell_type": "markdown",
   "id": "d8a832c2",
   "metadata": {},
   "source": [
    "Variables like `first`, `second`, and `third` that are created within a function are called local variables. Local variables get created each time that function is called, and they are erased when the function returns. Because they only exist when the function is being executed, they can’t be used outside of the function. This means that trying to access a local variable from outside the function is an error, just like trying to access a variable that has never been defined is an error.\n",
    "\n",
    "A function’s parameters are also local variables, so we get the same error if we try to use them outside of a function definition. \n",
    "\n",
    "The area of a program that a variable can be used in is called the variable’s **scope**. The scope of a local variable is from the line in which it is defined up until the end of the function. \n",
    "\n",
    "## Tracing Function Calls in the Memory Location\n",
    "Let us trace the function call. https://pythontutor.com/visualize.html\n",
    "```python\n",
    "def f(x):\n",
    "    x = 2 * x\n",
    "    return x\n",
    "    \n",
    "x = 1\n",
    "x = f(x + 1) + f(x + 2)\n",
    "```\n",
    "\n",
    "\n",
    "## Designing New Functions: A Recipe\n",
    "- What do you name the function?\n",
    "- What are the parameters, and what types of information do they refer to?\n",
    "- What calculations are you doing with that information?\n",
    "- What information does the function return?\n",
    "\n",
    "\n",
    "Let us write three functions to practice using the recipe. \n",
    "\n",
    "1. Write a function that returns the number of days between `day1` and `day2`, which are​\n",
    "both in the range 1-365 (thus indicating the day of the​ year).\n",
    "2. Write a function that returns which day of the week it will be `days_ahead` days​ from `current_weekday`.​\n",
    "`current_weekday` is the current day of the week and is in​ the range 1-7, indicating whether today is Sunday (1),​\n",
    "Monday (2), ..., Saturday (7). `days_ahead` is the number of days after today.​\n",
    "3. Return the day of the week it will be on birthday_day,​ given that the day of the week is current_weekday and the​\n",
    "day of the year is current_day.​ current_weekday is the current day of the week and is in​\n",
    "the range 1-7, indicating whether today is Sunday (1),​ Monday (2), Saturday (7).​\n",
    "current_day and birthday_day are both in the range 1-365.\n",
    "\n",
    "\n",
    "\n",
    "```python\n",
    "def days_difference(day1: int, day2: int) -> int:\n",
    "    \"\"\"Return the number of days between day1 and day2, which are​\n",
    "    both in the range 1-365 (thus indicating the day of the​ year).\n",
    "    \n",
    "    >>> days_difference(200, 224)\n",
    "    24\n",
    "    >>> days_difference(50, 50)\n",
    "    0\n",
    "    >>> days_difference(100, 99)\n",
    "    -1\n",
    "    \"\"\"\n",
    "    return day2 - day1\n",
    "```\n",
    "\n",
    "```python\n",
    "def days_difference(day1, day2):\n",
    "    \"\"\"Return the number of days between day1 and day2, which are​\n",
    "    both in the range 1-365 (thus indicating the day of the​ year).\n",
    "    \"\"\"\n",
    "    return day2 - day1\n",
    "```\n",
    "\n",
    "\n",
    "```python\n",
    "def get_weekday(current_weekday, days_ahead):\n",
    "    return (current_weekday + days_ahead) % 7\n",
    "```\n",
    "\n",
    "```python\n",
    "def get_birthday_weekday(current_weekday, current_day, birth_day):\n",
    "    days_diff = days_difference(current_day, birth_day)\n",
    "    return get_weekday(current_weekday, days_diff)\n",
    "```\n",
    "\n",
    "\n",
    "### Variations in functions\n",
    "- No input; no output; example -- print something\n",
    "- One or more input; no output; example -- print the input\n",
    "- One or more input: one or more output; example -- take two numbers and return their sum\n",
    "- No input; one or more output; example -- a random number\n",
    "\n",
    "\n",
    "## Omitting a return Statement: None\n",
    "\n",
    "If you do not have a `return` statement in a function, nothing is produced. By default the `None` data type is returned."
   ]
  },
  {
   "cell_type": "code",
   "execution_count": null,
   "id": "7ed7f919",
   "metadata": {},
   "outputs": [],
   "source": [
    "def f(x):\n",
    "    x = x * 2\n",
    "\n",
    "res = f(3)\n",
    "res"
   ]
  },
  {
   "cell_type": "markdown",
   "id": "c3e45c64",
   "metadata": {},
   "source": [
    "```python\n",
    "print(res)\n",
    "id(res)\n",
    "```"
   ]
  },
  {
   "cell_type": "code",
   "execution_count": null,
   "id": "5144dc84",
   "metadata": {},
   "outputs": [],
   "source": [
    "def f(x):\n",
    "    x = x * 2\n",
    "    return None\n",
    "\n",
    "print(f(3))"
   ]
  },
  {
   "cell_type": "markdown",
   "id": "2d032707",
   "metadata": {},
   "source": [
    "## Summary\n",
    "- A function definition introduces a new variable that refers to a function object. The return statement describes the value that will be produced as a result of the function when this function is done being executed.\n",
    "- A parameter is a variable that appears between the parentheses of a function header.\n",
    "- A local variable is a variable that is used in a function definition to store an intermediate result in order to make code easier to write and read.\n",
    "- A function call tells Python to execute a function.\n",
    "- An argument is an expression that appears between the parentheses of a function call. The value that is produced when Python evaluates the expression is assigned to the corresponding parameter.\n",
    "- If you made assumptions about the values of parameters or you know that your function won’t work with particular values, write a precondition to warn other programmers."
   ]
  }
 ],
 "metadata": {
  "jupytext": {
   "formats": "md:myst",
   "text_representation": {
    "extension": ".md",
    "format_name": "myst"
   }
  },
  "kernelspec": {
   "display_name": "Python 3",
   "language": "python",
   "name": "python3"
  },
  "language_info": {
   "codemirror_mode": {
    "name": "ipython",
    "version": 3
   },
   "file_extension": ".py",
   "mimetype": "text/x-python",
   "name": "python",
   "nbconvert_exporter": "python",
   "pygments_lexer": "ipython3",
   "version": "3.9.7"
  },
  "source_map": [
   11,
   32,
   36,
   40,
   42,
   49,
   53,
   57,
   61,
   63,
   66,
   70,
   74,
   78,
   82,
   86,
   88,
   92,
   94,
   98,
   103,
   105,
   110,
   114,
   116,
   120,
   122,
   127,
   132,
   137,
   142,
   146,
   150,
   155,
   159,
   161,
   220,
   229,
   318,
   324,
   331,
   337
  ]
 },
 "nbformat": 4,
 "nbformat_minor": 5
}