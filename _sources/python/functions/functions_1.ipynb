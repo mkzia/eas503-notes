{
 "cells": [
  {
   "cell_type": "markdown",
   "id": "bfb7d6e5",
   "metadata": {},
   "source": [
    "# Functions\n",
    "\n",
    "## Previous Lecture\n",
    "- In the previous lecture we covered the fundamentals of Python:\n",
    "  - We covered the basic terminologies such as:\n",
    "    - Operators: arithmetic operators (additions, subtraction multiplication, division, modulo)\n",
    "    - Operands: the values to the left and right of an operator \n",
    "    - Expressions: represent individual values, such as numbers or characters, or a combination of operators and operands\n",
    "    - Syntax: set of rules that tells you how you can combine operators and operands/value to write legal/correct Python expressions\n",
    "  - Next we covered the basic data types that Python provides. These include: int (integer), float (floating-point), and str (string)\n",
    "  - Then we covered examples of using arithmetic operators in detail and operator precedence.\n",
    "  - We also covered variables, which are containers for holding values, and how they are named. \n",
    "- These are the fundamentals of Python because they are the basic building block for writing sophisticated code. \n",
    "\n",
    "## Lecture Objectives\n",
    "- In this lecture we will cover functions. You will learn\n",
    "  - What are functions?\n",
    "  - What are some advantages of using functions?\n",
    "  - What are some built-in Python functions?\n",
    "  - How do you write a function?\n",
    "  - What is a function call? \n",
    "  - What are arguments? What is their purpose?\n",
    "  - What is the purpose of the return statement?\n",
    "\n",
    "## Functions: An Overview\n",
    "- A Functions is a small, self-contained sequence of statements/instructions that has a name. Example: convert Celsius to Fahrenheit\n",
    "- What the advantages of using functions?\n",
    "  - Many programs require a particular sequence of statements/instructions to be executed repeatedly. The repeated statements/instructions can be placed with a single function, which can be accessed whenever needed. Therefore, they reduce repeated statements/instructions. \n",
    "  - Functions help decompose larger programs into logical subprograms. Such programs are easier to write and debug. \n",
    "- Functions can be executed at any point by using their name \n",
    "- Functions can call other functions\n",
    "- Functions can OPTIONALLY take argument(s) that they can use inside the function\n",
    "- Functions can OPTIONALLY return value(s)\n",
    "\n",
    "The general form of a function call is as follows:\n",
    "```\n",
    "def <<function_name>>(<<arguments>>):\n",
    "    body\n",
    "```\n",
    "\n",
    "```python\n",
    "def convert_celsius_to_fahrenheit(degrees_in_celsius):\n",
    "    return 9 / 5 * degrees_celsius + 32\n",
    "```\n",
    "\n",
    "## Built-in functions\n",
    "`abs(-9)` -- `-9` is the argument. Arguments appear between the parenthesis after the function name. Arguments are evaluated left to right."
   ]
  },
  {
   "cell_type": "code",
   "execution_count": 1,
   "id": "d2395c07",
   "metadata": {},
   "outputs": [
    {
     "data": {
      "text/plain": [
       "7"
      ]
     },
     "execution_count": 1,
     "metadata": {},
     "output_type": "execute_result"
    }
   ],
   "source": [
    "day_temperature = 3\n",
    "night_temperature = 10\n",
    "abs(day_temperature - night_temperature)"
   ]
  },
  {
   "cell_type": "markdown",
   "id": "f4cb94d4",
   "metadata": {},
   "source": [
    "Because function calls produce values, they can be used in expressions:"
   ]
  },
  {
   "cell_type": "code",
   "execution_count": 2,
   "id": "9ab3f93a",
   "metadata": {},
   "outputs": [
    {
     "data": {
      "text/plain": [
       "10.3"
      ]
     },
     "execution_count": 2,
     "metadata": {},
     "output_type": "execute_result"
    }
   ],
   "source": [
    "abs(-7) + abs(3.3)"
   ]
  },
  {
   "cell_type": "markdown",
   "id": "62e5ca4e",
   "metadata": {},
   "source": [
    "![subexpression](./subexpression.png)\n",
    "\n",
    "\n",
    "Functions to convert one type of variable to another"
   ]
  },
  {
   "cell_type": "code",
   "execution_count": 3,
   "id": "03a19d79",
   "metadata": {},
   "outputs": [
    {
     "data": {
      "text/plain": [
       "34"
      ]
     },
     "execution_count": 3,
     "metadata": {},
     "output_type": "execute_result"
    }
   ],
   "source": [
    "int(34.6)"
   ]
  },
  {
   "cell_type": "code",
   "execution_count": 4,
   "id": "1cdcf974",
   "metadata": {},
   "outputs": [
    {
     "data": {
      "text/plain": [
       "-4"
      ]
     },
     "execution_count": 4,
     "metadata": {},
     "output_type": "execute_result"
    }
   ],
   "source": [
    "int(-4.3)"
   ]
  },
  {
   "cell_type": "code",
   "execution_count": 5,
   "id": "7744b681",
   "metadata": {},
   "outputs": [
    {
     "data": {
      "text/plain": [
       "21.0"
      ]
     },
     "execution_count": 5,
     "metadata": {},
     "output_type": "execute_result"
    }
   ],
   "source": [
    "float(21)"
   ]
  },
  {
   "cell_type": "code",
   "execution_count": 6,
   "id": "705205d7",
   "metadata": {},
   "outputs": [
    {
     "data": {
      "text/plain": [
       "'21'"
      ]
     },
     "execution_count": 6,
     "metadata": {},
     "output_type": "execute_result"
    }
   ],
   "source": [
    "str(21)"
   ]
  },
  {
   "cell_type": "markdown",
   "id": "fca56eec",
   "metadata": {},
   "source": [
    "The Round function can round floats"
   ]
  },
  {
   "cell_type": "code",
   "execution_count": 7,
   "id": "543b4663",
   "metadata": {},
   "outputs": [
    {
     "data": {
      "text/plain": [
       "'21'"
      ]
     },
     "execution_count": 7,
     "metadata": {},
     "output_type": "execute_result"
    }
   ],
   "source": [
    "str(21)"
   ]
  },
  {
   "cell_type": "code",
   "execution_count": 8,
   "id": "b3672a56",
   "metadata": {},
   "outputs": [
    {
     "data": {
      "text/plain": [
       "4"
      ]
     },
     "execution_count": 8,
     "metadata": {},
     "output_type": "execute_result"
    }
   ],
   "source": [
    "round(3.8)"
   ]
  },
  {
   "cell_type": "code",
   "execution_count": 9,
   "id": "382bd905",
   "metadata": {},
   "outputs": [
    {
     "data": {
      "text/plain": [
       "3"
      ]
     },
     "execution_count": 9,
     "metadata": {},
     "output_type": "execute_result"
    }
   ],
   "source": [
    "round(3.3)"
   ]
  },
  {
   "cell_type": "code",
   "execution_count": 10,
   "id": "1bb59527",
   "metadata": {},
   "outputs": [
    {
     "data": {
      "text/plain": [
       "4"
      ]
     },
     "execution_count": 10,
     "metadata": {},
     "output_type": "execute_result"
    }
   ],
   "source": [
    "round(3.5)"
   ]
  },
  {
   "cell_type": "code",
   "execution_count": 11,
   "id": "3428ede0",
   "metadata": {},
   "outputs": [
    {
     "data": {
      "text/plain": [
       "-3"
      ]
     },
     "execution_count": 11,
     "metadata": {},
     "output_type": "execute_result"
    }
   ],
   "source": [
    "round(-3.3)"
   ]
  },
  {
   "cell_type": "code",
   "execution_count": 12,
   "id": "27203df4",
   "metadata": {},
   "outputs": [
    {
     "data": {
      "text/plain": [
       "-4"
      ]
     },
     "execution_count": 12,
     "metadata": {},
     "output_type": "execute_result"
    }
   ],
   "source": [
    "round(-3.5)"
   ]
  },
  {
   "cell_type": "markdown",
   "id": "cec6499a",
   "metadata": {},
   "source": [
    "The round function can take an OPTIONAL second argument"
   ]
  },
  {
   "cell_type": "code",
   "execution_count": 13,
   "id": "495d5c14",
   "metadata": {},
   "outputs": [
    {
     "data": {
      "text/plain": [
       "3.14"
      ]
     },
     "execution_count": 13,
     "metadata": {},
     "output_type": "execute_result"
    }
   ],
   "source": [
    "round(3.141592653,2)"
   ]
  },
  {
   "cell_type": "markdown",
   "id": "ce1417d0",
   "metadata": {},
   "source": [
    "The `help(fxn)` function gives information about a function"
   ]
  },
  {
   "cell_type": "code",
   "execution_count": 14,
   "id": "af0b34ed",
   "metadata": {},
   "outputs": [
    {
     "name": "stdout",
     "output_type": "stream",
     "text": [
      "Help on built-in function round in module builtins:\n",
      "\n",
      "round(number, ndigits=None)\n",
      "    Round a number to a given precision in decimal digits.\n",
      "    \n",
      "    The return value is an integer if ndigits is omitted or None.  Otherwise\n",
      "    the return value has the same type as the number.  ndigits may be negative.\n",
      "\n"
     ]
    }
   ],
   "source": [
    "help(round)\n"
   ]
  },
  {
   "cell_type": "code",
   "execution_count": 15,
   "id": "dd16e460",
   "metadata": {},
   "outputs": [
    {
     "name": "stdout",
     "output_type": "stream",
     "text": [
      "Help on built-in function pow in module builtins:\n",
      "\n",
      "pow(base, exp, mod=None)\n",
      "    Equivalent to base**exp with 2 arguments or base**exp % mod with 3 arguments\n",
      "    \n",
      "    Some types, such as ints, are able to use a more efficient algorithm when\n",
      "    invoked using the three argument form.\n",
      "\n"
     ]
    }
   ],
   "source": [
    "help(pow)"
   ]
  },
  {
   "cell_type": "markdown",
   "id": "6ccdda0c",
   "metadata": {},
   "source": [
    "Using the `pow` function"
   ]
  },
  {
   "cell_type": "code",
   "execution_count": 16,
   "id": "712c6797",
   "metadata": {},
   "outputs": [
    {
     "data": {
      "text/plain": [
       "16"
      ]
     },
     "execution_count": 16,
     "metadata": {},
     "output_type": "execute_result"
    }
   ],
   "source": [
    "pow(2, 4)"
   ]
  },
  {
   "cell_type": "code",
   "execution_count": 17,
   "id": "43bec835",
   "metadata": {},
   "outputs": [
    {
     "data": {
      "text/plain": [
       "1"
      ]
     },
     "execution_count": 17,
     "metadata": {},
     "output_type": "execute_result"
    }
   ],
   "source": [
    "pow(2, 4, 3)"
   ]
  },
  {
   "cell_type": "markdown",
   "id": "b13bb585",
   "metadata": {},
   "source": [
    "We can also use function calls as arguments to other functions:"
   ]
  },
  {
   "cell_type": "code",
   "execution_count": 18,
   "id": "f57d73e2",
   "metadata": {},
   "outputs": [
    {
     "data": {
      "text/plain": [
       "16"
      ]
     },
     "execution_count": 18,
     "metadata": {},
     "output_type": "execute_result"
    }
   ],
   "source": [
    "pow(abs(-2), round(4.3))"
   ]
  },
  {
   "cell_type": "markdown",
   "id": "71cf4c08",
   "metadata": {},
   "source": [
    "Some other useful functions"
   ]
  },
  {
   "cell_type": "code",
   "execution_count": 19,
   "id": "adf6b157",
   "metadata": {},
   "outputs": [
    {
     "data": {
      "text/plain": [
       "2"
      ]
     },
     "execution_count": 19,
     "metadata": {},
     "output_type": "execute_result"
    }
   ],
   "source": [
    "min(2, 3, 4)"
   ]
  },
  {
   "cell_type": "code",
   "execution_count": 20,
   "id": "31eb9ff0",
   "metadata": {},
   "outputs": [
    {
     "data": {
      "text/plain": [
       "7"
      ]
     },
     "execution_count": 20,
     "metadata": {},
     "output_type": "execute_result"
    }
   ],
   "source": [
    "max(2, -3, 4, 7, -5)"
   ]
  },
  {
   "cell_type": "code",
   "execution_count": 21,
   "id": "8c97b3b1",
   "metadata": {},
   "outputs": [
    {
     "data": {
      "text/plain": [
       "4"
      ]
     },
     "execution_count": 21,
     "metadata": {},
     "output_type": "execute_result"
    }
   ],
   "source": [
    "max(2, -3, min(4, 7), -5)"
   ]
  },
  {
   "cell_type": "markdown",
   "id": "7ef0d4db",
   "metadata": {},
   "source": [
    "Function objects have memory addresses just like variables:"
   ]
  },
  {
   "cell_type": "code",
   "execution_count": 22,
   "id": "37813019",
   "metadata": {},
   "outputs": [
    {
     "data": {
      "text/plain": [
       "140669299371088"
      ]
     },
     "execution_count": 22,
     "metadata": {},
     "output_type": "execute_result"
    }
   ],
   "source": [
    "id(-9)"
   ]
  },
  {
   "cell_type": "code",
   "execution_count": 23,
   "id": "c3ce9f96",
   "metadata": {},
   "outputs": [
    {
     "data": {
      "text/plain": [
       "140669299371280"
      ]
     },
     "execution_count": 23,
     "metadata": {},
     "output_type": "execute_result"
    }
   ],
   "source": [
    "id(23.1)"
   ]
  },
  {
   "cell_type": "code",
   "execution_count": 24,
   "id": "d44155a7",
   "metadata": {},
   "outputs": [
    {
     "data": {
      "text/plain": [
       "140669299371792"
      ]
     },
     "execution_count": 24,
     "metadata": {},
     "output_type": "execute_result"
    }
   ],
   "source": [
    "show_size = 8.5\n",
    "id(show_size)"
   ]
  },
  {
   "cell_type": "code",
   "execution_count": 25,
   "id": "4357d704",
   "metadata": {},
   "outputs": [
    {
     "data": {
      "text/plain": [
       "140669348796752"
      ]
     },
     "execution_count": 25,
     "metadata": {},
     "output_type": "execute_result"
    }
   ],
   "source": [
    "id(abs)"
   ]
  },
  {
   "cell_type": "code",
   "execution_count": 26,
   "id": "f37aa37c",
   "metadata": {},
   "outputs": [
    {
     "data": {
      "text/plain": [
       "140669348803744"
      ]
     },
     "execution_count": 26,
     "metadata": {},
     "output_type": "execute_result"
    }
   ],
   "source": [
    "id(round)"
   ]
  },
  {
   "cell_type": "markdown",
   "id": "02c6ea68",
   "metadata": {},
   "source": [
    "## Defining your own functions\n",
    "The built-in functions (e.g, type, print, input) that Python provides do basic tasks. We can write our own functions that can execute complicated sequence of instructions. \n",
    "\n",
    "https://www.mathsisfun.com/sets/function.html\n",
    "\n",
    "```python\n",
    "def f(x):\n",
    "    squared_x  = x * x\n",
    "    return squared_x\n",
    "```\n",
    "\n",
    "```python\n",
    "def f(x):\n",
    "    squared_x = x ** 2\n",
    "    return squared_x\n",
    "```\n",
    "\n",
    "```python\n",
    "def f(x):\n",
    "    squared_x = pow(x, 2)\n",
    "    return squared_x\n",
    "```\n",
    "\n",
    "```python\n",
    "def f(x):\n",
    "    return x**2\n",
    "```\n",
    "\n",
    "```python\n",
    "def f(x):\n",
    "    return pow(x, 2)\n",
    "```\n",
    "\n",
    "\n",
    "```python\n",
    "def convert_to_celsius(fahrenheit):\n",
    "    return (fahrenheit - 32) * 5 / 9\n",
    "\n",
    "convert_to_celsius(80)\n",
    "```\n",
    "\n",
    "- What is a function definition?\n",
    "  - A function definition is a kind of Python statement. The general form of a function definition is as follows:\n",
    "  ```\n",
    "    def <<function_name>>(<<parameters>>):\n",
    "    <<block>>\n",
    "  ```\n",
    "- What is a function header? First line of function definition.\n",
    "- What is a function body? What comes after the function definition and is indented by four spaces. \n",
    "- What is a return statement? ``return <<expression>>``\n",
    "\n",
    "\n",
    "![def_call](./def_call.png)\n",
    "\n",
    "\n",
    "## Local Variables"
   ]
  },
  {
   "cell_type": "code",
   "execution_count": 27,
   "id": "03ca24af",
   "metadata": {},
   "outputs": [
    {
     "data": {
      "text/plain": [
       "13.0"
      ]
     },
     "execution_count": 27,
     "metadata": {},
     "output_type": "execute_result"
    }
   ],
   "source": [
    "def quadratic(a, b, c, x):\n",
    "    \"\"\"ax^2 + bx + c\"\"\"\n",
    "    first = a * x ** 2\n",
    "    second = b * x\n",
    "    third = c\n",
    "    return first + second + third\n",
    "quadratic(2, 3, 4, 0.5)\n",
    "quadratic(2, 3, 4, 1.5)"
   ]
  },
  {
   "cell_type": "markdown",
   "id": "61fea2bc",
   "metadata": {},
   "source": [
    "Variables like `first`, `second`, and `third` that are created within a function are called local variables. Local variables get created each time that function is called, and they are erased when the function returns. Because they only exist when the function is being executed, they can’t be used outside of the function. This means that trying to access a local variable from outside the function is an error, just like trying to access a variable that has never been defined is an error.\n",
    "\n",
    "A function’s parameters are also local variables, so we get the same error if we try to use them outside of a function definition. \n",
    "\n",
    "The area of a program that a variable can be used in is called the variable’s **scope**. The scope of a local variable is from the line in which it is defined up until the end of the function. \n",
    "\n",
    "## Tracing Function Calls in the Memory Location\n",
    "Let us trace the function call. https://pythontutor.com/visualize.html\n",
    "```python\n",
    "def f(x):\n",
    "    x = 2 * x\n",
    "    return x\n",
    "    \n",
    "x = 1\n",
    "x = f(x + 1) + f(x + 2)\n",
    "```\n",
    "\n",
    "\n",
    "## Designing New Functions: A Recipe\n",
    "- What do you name the function?\n",
    "- What are the parameters, and what types of information do they refer to?\n",
    "- What calculations are you doing with that information?\n",
    "- What information does the function return?\n",
    "\n",
    "\n",
    "Let us write three functions to practice using the recipe. \n",
    "\n",
    "1. Write a function that returns the number of days between `day1` and `day2`, which are​\n",
    "both in the range 1-365 (thus indicating the day of the​ year).\n",
    "2. Write a function that returns which day of the week it will be `days_ahead` days​ from `current_weekday`.​\n",
    "`current_weekday` is the current day of the week and is in​ the range 1-7, indicating whether today is Sunday (1),​\n",
    "Monday (2), ..., Saturday (7). `days_ahead` is the number of days after today.​\n",
    "3. Return the day of the week it will be on birthday_day,​ given that the day of the week is current_weekday and the​\n",
    "day of the year is current_day.​ current_weekday is the current day of the week and is in​\n",
    "the range 1-7, indicating whether today is Sunday (1),​ Monday (2), Saturday (7).​\n",
    "current_day and birthday_day are both in the range 1-365.\n",
    "\n",
    "\n",
    "\n",
    "```python\n",
    "def days_difference(day1: int, day2: int) -> int:\n",
    "    \"\"\"Return the number of days between day1 and day2, which are​\n",
    "    both in the range 1-365 (thus indicating the day of the​ year).\n",
    "    \n",
    "    >>> days_difference(200, 224)\n",
    "    24\n",
    "    >>> days_difference(50, 50)\n",
    "    0\n",
    "    >>> days_difference(100, 99)\n",
    "    -1\n",
    "    \"\"\"\n",
    "    return day2 - day1\n",
    "```\n",
    "\n",
    "```python\n",
    "def days_difference(day1, day2):\n",
    "    \"\"\"Return the number of days between day1 and day2, which are​\n",
    "    both in the range 1-365 (thus indicating the day of the​ year).\n",
    "    \"\"\"\n",
    "    return day2 - day1\n",
    "```\n",
    "\n",
    "\n",
    "```python\n",
    "def get_weekday(current_weekday, days_ahead):\n",
    "    return (current_weekday + days_ahead) % 7\n",
    "```\n",
    "\n",
    "```python\n",
    "def get_birthday_weekday(current_weekday, current_day, birth_day):\n",
    "    days_diff = days_difference(current_day, birth_day)\n",
    "    return get_weekday(current_weekday, days_diff)\n",
    "```\n",
    "\n",
    "\n",
    "### Variations in functions\n",
    "- No input; no output; example -- print something\n",
    "- One or more input; no output; example -- print the input\n",
    "- One or more input: one or more output; example -- take two numbers and return their sum\n",
    "- No input; one or more output; example -- a random number\n",
    "\n",
    "\n",
    "## Omitting a return Statement: None\n",
    "\n",
    "If you do not have a `return` statement in a function, nothing is produced. By default the `None` data type is returned."
   ]
  },
  {
   "cell_type": "code",
   "execution_count": 28,
   "id": "c2ec9f2b",
   "metadata": {},
   "outputs": [],
   "source": [
    "def f(x):\n",
    "    x = x * 2\n",
    "\n",
    "res = f(3)\n",
    "res"
   ]
  },
  {
   "cell_type": "markdown",
   "id": "17a5020a",
   "metadata": {},
   "source": [
    "```python\n",
    "print(res)\n",
    "id(res)\n",
    "```"
   ]
  },
  {
   "cell_type": "code",
   "execution_count": 29,
   "id": "23f338cc",
   "metadata": {},
   "outputs": [
    {
     "name": "stdout",
     "output_type": "stream",
     "text": [
      "None\n"
     ]
    }
   ],
   "source": [
    "def f(x):\n",
    "    x = x * 2\n",
    "    return None\n",
    "\n",
    "print(f(3))"
   ]
  },
  {
   "cell_type": "markdown",
   "id": "f5263eed",
   "metadata": {},
   "source": [
    "## Summary\n",
    "- A function definition introduces a new variable that refers to a function object. The return statement describes the value that will be produced as a result of the function when this function is done being executed.\n",
    "- A parameter is a variable that appears between the parentheses of a function header.\n",
    "- A local variable is a variable that is used in a function definition to store an intermediate result in order to make code easier to write and read.\n",
    "- A function call tells Python to execute a function.\n",
    "- An argument is an expression that appears between the parentheses of a function call. The value that is produced when Python evaluates the expression is assigned to the corresponding parameter.\n",
    "- If you made assumptions about the values of parameters or you know that your function won’t work with particular values, write a precondition to warn other programmers."
   ]
  }
 ],
 "metadata": {
  "jupytext": {
   "formats": "md:myst",
   "text_representation": {
    "extension": ".md",
    "format_name": "myst"
   }
  },
  "kernelspec": {
   "display_name": "Python 3",
   "language": "python",
   "name": "python3"
  },
  "language_info": {
   "codemirror_mode": {
    "name": "ipython",
    "version": 3
   },
   "file_extension": ".py",
   "mimetype": "text/x-python",
   "name": "python",
   "nbconvert_exporter": "python",
   "pygments_lexer": "ipython3",
   "version": "3.9.7"
  },
  "source_map": [
   11,
   61,
   65,
   69,
   71,
   78,
   82,
   86,
   90,
   92,
   95,
   99,
   103,
   107,
   111,
   115,
   117,
   121,
   123,
   127,
   132,
   134,
   139,
   143,
   145,
   149,
   151,
   156,
   161,
   165,
   167,
   171,
   175,
   179,
   184,
   188,
   190,
   249,
   258,
   347,
   353,
   360,
   366
  ]
 },
 "nbformat": 4,
 "nbformat_minor": 5
}