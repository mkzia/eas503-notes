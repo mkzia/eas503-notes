{
 "cells": [
  {
   "cell_type": "markdown",
   "id": "79d88178",
   "metadata": {},
   "source": [
    "# Conditionals\n",
    "\n",
    "## Previous Chapter\n",
    "- In the previous chapter we covered how functions. Functions are the fundamental building blocks of writing large programs. \n",
    "- We learned to use some built-in function \n",
    "- We learned to write our own function using the function design recipe\n",
    "- We learned how to pass arguments into a function and return values from a function\n",
    "\n",
    "## Chapter Objectives \n",
    "- In this chapter we will cover a fundamental concept in programming: conditionals or making choices using control flow statements. You will learn\n",
    "  - How to modify the behavior of your program based on the data you are working with\n",
    "  - What the boolean data type is\n",
    "  - What truthiness and falsiness of values are\n",
    "  - What boolean operators are\n",
    "  - What relational operators are\n",
    "  - How to combine comparison operators \n",
    "  - What is short-circuit evaluation \n",
    "  - What it means to compare strings\n",
    "  - How to write nested if statements\n",
    "\n",
    "## Conditionals/Making Choices Using Flow Controls\n",
    "- So far we have only written small programs that are a sequence of instructions. Sometimes you have to alter the sequential flow of a program to suit the needs of a particular situation.\n",
    "\n",
    "## Boolean Type\n",
    "- Python has a built-in Boolean type called `bool`. Unlike `int` and `float`, which can have almost unlimited possible values, `bool` has only two: `True` and `False`. `True` and `False` are values just like 0 and -43.7. \n",
    "\n",
    "## Boolean Operators\n",
    "- There are three basic Boolean operators: `and`, `or`, and `not`. `not` has the highest precedence, followed by `and`, followed by `or`. \n",
    "\n",
    "| Operator | What it does?                                        | Example                                                                   |\n",
    "|----------|------------------------------------------------------|---------------------------------------------------------------------------|\n",
    "| `and`    | True if both a AND b are true (logical conjunction)  | if is_teacher and is_active:   print('You can access')                    |\n",
    "| `or`     | True if either a OR b are true (logical disjunction) | if is_superuser or (is_teacher and is active):    print('You can access') |\n",
    "| `not`    | True if the opposite of a is true (logical negation) | if not is_superuser:   print('You cannot access')"
   ]
  },
  {
   "cell_type": "code",
   "execution_count": 1,
   "id": "484254f5",
   "metadata": {},
   "outputs": [
    {
     "data": {
      "text/plain": [
       "False"
      ]
     },
     "execution_count": 1,
     "metadata": {},
     "output_type": "execute_result"
    }
   ],
   "source": [
    "not True"
   ]
  },
  {
   "cell_type": "code",
   "execution_count": 2,
   "id": "b7a53d09",
   "metadata": {},
   "outputs": [
    {
     "data": {
      "text/plain": [
       "True"
      ]
     },
     "execution_count": 2,
     "metadata": {},
     "output_type": "execute_result"
    }
   ],
   "source": [
    "not False"
   ]
  },
  {
   "cell_type": "code",
   "execution_count": 3,
   "id": "d1fed27b",
   "metadata": {},
   "outputs": [
    {
     "data": {
      "text/plain": [
       "True"
      ]
     },
     "execution_count": 3,
     "metadata": {},
     "output_type": "execute_result"
    }
   ],
   "source": [
    "True and True"
   ]
  },
  {
   "cell_type": "code",
   "execution_count": 4,
   "id": "4f4eafc4",
   "metadata": {},
   "outputs": [
    {
     "data": {
      "text/plain": [
       "False"
      ]
     },
     "execution_count": 4,
     "metadata": {},
     "output_type": "execute_result"
    }
   ],
   "source": [
    "False and False"
   ]
  },
  {
   "cell_type": "code",
   "execution_count": 5,
   "id": "78f86015",
   "metadata": {},
   "outputs": [
    {
     "data": {
      "text/plain": [
       "False"
      ]
     },
     "execution_count": 5,
     "metadata": {},
     "output_type": "execute_result"
    }
   ],
   "source": [
    "True and False"
   ]
  },
  {
   "cell_type": "code",
   "execution_count": 6,
   "id": "66caf586",
   "metadata": {},
   "outputs": [
    {
     "data": {
      "text/plain": [
       "False"
      ]
     },
     "execution_count": 6,
     "metadata": {},
     "output_type": "execute_result"
    }
   ],
   "source": [
    "False and True"
   ]
  },
  {
   "cell_type": "code",
   "execution_count": 7,
   "id": "c98221be",
   "metadata": {},
   "outputs": [
    {
     "data": {
      "text/plain": [
       "True"
      ]
     },
     "execution_count": 7,
     "metadata": {},
     "output_type": "execute_result"
    }
   ],
   "source": [
    "True or True"
   ]
  },
  {
   "cell_type": "code",
   "execution_count": 8,
   "id": "3ec58bc9",
   "metadata": {},
   "outputs": [
    {
     "data": {
      "text/plain": [
       "False"
      ]
     },
     "execution_count": 8,
     "metadata": {},
     "output_type": "execute_result"
    }
   ],
   "source": [
    "False or False"
   ]
  },
  {
   "cell_type": "code",
   "execution_count": 9,
   "id": "01f73e5b",
   "metadata": {},
   "outputs": [
    {
     "data": {
      "text/plain": [
       "True"
      ]
     },
     "execution_count": 9,
     "metadata": {},
     "output_type": "execute_result"
    }
   ],
   "source": [
    "True or False"
   ]
  },
  {
   "cell_type": "code",
   "execution_count": 10,
   "id": "861afc4a",
   "metadata": {},
   "outputs": [
    {
     "data": {
      "text/plain": [
       "True"
      ]
     },
     "execution_count": 10,
     "metadata": {},
     "output_type": "execute_result"
    }
   ],
   "source": [
    "False or True"
   ]
  },
  {
   "cell_type": "markdown",
   "id": "1d293e9c",
   "metadata": {},
   "source": [
    "```python\n",
    "cold = True\n",
    "windy = False\n",
    "\n",
    "(not cold) and windy # It is not cold and windy\n",
    "\n",
    "not (cold and windy) # \n",
    "```\n",
    "\n",
    "\n",
    "## Truthiness and Falsiness \n",
    "- Things that are false on their own\n",
    "    - `None` (basic data type)\n",
    "    - `False` (basic data type)\n",
    "    - Any empty sequence: `''`, `[]`, `()`\n",
    "    - Any zero value: 0, 0.0\n",
    "    - Anything whose `len()` returns 0\n",
    "    - Empty objects\n",
    "    - Everything else is True \n",
    "      \n",
    "## Relational Operators\n",
    "- A relational operator converts a conditional into a boolean, which is a basic Python data type.\n",
    "\n",
    "- Assume `a=1` and `b=1`\n",
    "\n",
    "| Relational Operators | What it does?                                | Example       |\n",
    "|----|---------------------------------------------|---------------|\n",
    "| == | True if a has the same value as b           | a == b #True  |\n",
    "| != | True if a does not have the same value as b | a != b #False |\n",
    "| >  | True if a is greater than b                 | a > b # False |\n",
    "| <  | True if a is less than b                    | a < b # False |\n",
    "| >= | True if a is greater than or equal to b     | a >= b # True |\n",
    "| <= | True if a is less than or equal to b        | a <= b # True |\n",
    "\n",
    "- These operators evaluate to True or False depending on the values you give them.\n",
    "- Conditionals are used to instruct computer to make a decision. \n",
    "\n",
    "\n",
    "```python\n",
    "45 > 34\n",
    "45 > 79\n",
    "45 < 79\n",
    "45 < 34\n",
    "\n",
    "23.1 >= 23\n",
    "23.1 >= 23.1\n",
    "23.1 <= 23.1\n",
    "23.1 <= 23\n",
    "\n",
    "67.3 == 87\n",
    "67.3 == 67\n",
    "67.0 == 67\n",
    "67.0 != 67\n",
    "67.0 != 23\n",
    "```\n",
    "\n",
    "##  Combining Comparisons\n",
    "\n",
    "```python\n",
    "x = 2\n",
    "y = 5\n",
    "z = 7\n",
    "x < y and y < z\n",
    "\n",
    "(x < y) and (y < z) # better\n",
    "\n",
    "```\n",
    "\n",
    "```python\n",
    "x = 3\n",
    "(1 < x) and (x <= 5)\n",
    "\n",
    "x = 7\n",
    "(1 < x) and (x <= 5)\n",
    "\n",
    "\n",
    "x = 3 \n",
    "1 < x <= 5 # You can chain comparisons\n",
    "\n",
    "3 < 5 != True \n",
    "(3 < 5) and (5 != True)\n",
    "\n",
    "3 < 5 != False\n",
    "(3 < 5) and (5 != False)\n",
    "```\n",
    "\n",
    "## Short-Circuit Evaluation \n",
    "- When Python evaluates an expression containing `and` or `or`, it does so from left to right. As soon as it knows enough to stop evaluating, it stops, even if some operands have not been looked at yet. This is called short-circuit evaluation. \n",
    "\n",
    "```python\n",
    "is_superuser = True\n",
    "is_staff = True\n",
    "is_active = False\n",
    "if is_superuser or (is_staff and is_active):\n",
    "    print('Enter!')\n",
    "else:\n",
    "    print('You Shall Not Pass!')\n",
    "```\n",
    "\n",
    "``` python\n",
    "is_staff = True\n",
    "is_active = True\n",
    "if is_staff and is_active:\n",
    "    print('Enter!')\n",
    "else:\n",
    "    print('You Shall Not Pass!')\n",
    "```\n",
    "\n",
    "## String Comparisons\n",
    "- When strings are compared, they are compared lexicographic, meaning strings are put into alphabetical order and uppercase comes before lowercase.\n",
    "- ASCII Table: https://www.rapidtables.com/code/text/ascii-table.html\n",
    "```python\n",
    "'A' < 'a'\n",
    "'A' > 'Z'\n",
    "'abc' < 'abd'\n",
    "'abc' < 'abcd' # shorter is less\n",
    "```\n",
    "- Convert a single character to its unicode number: `ord()`\n",
    "- Convert a unicode number to its unicode character: `chr()`\n",
    "\n",
    "\n",
    "- Python provides a way to check if one string appears inside another one:\n",
    "\n",
    "```python\n",
    "'Jan' in '01 Jan 1838'\n",
    "\n",
    "'Feb' in '01 Jan 1838'\n",
    "\n",
    "'a' in 'abc'\n",
    "\n",
    "'A' in 'abc'\n",
    "```\n",
    "\n",
    "## Choosing which statements to execute\n",
    "\n",
    "```Python\n",
    "if some condition is True:\n",
    "    do something\n",
    "elif some other condition is True: # else if \n",
    "    do something\n",
    "elif some other condition is True: # else if \n",
    "    do something\n",
    "elif some other condition is True: # else if \n",
    "    do something\n",
    "else:\n",
    "    do something \n",
    "```\n",
    "- colons are important and indentation matters\n",
    "- can have many `elif` tests\n",
    "- do not need `else`\n",
    "- conditions can be nested\n",
    "\n",
    "### Examples\n",
    "| pH Level | Solution Category |\n",
    "|----------|-------------------|\n",
    "| 0-4      | Strong acid       |\n",
    "| 5-6      | Weak acid         |\n",
    "| 7        | Neutral           |\n",
    "| 8-9      | Weak base         |\n",
    "| 10-14    | Strong base       |\n",
    "\n",
    "```python\n",
    "ph = float(input('Enter the pH level: '))\n",
    "if ph < 7.0:\n",
    "    print(ph, \" is acidic.\") #indentation important\n",
    "```\n",
    "\n",
    "```python\n",
    "ph = float(input('Enter the pH level: '))\n",
    "if ph < 7.0:\n",
    "    print(ph, \" is acidic.\")\n",
    "    print('You should be careful with that!') #indentation is important\n",
    "```\n",
    "\n",
    "\n",
    "```python\n",
    "ph = float(input('Enter the pH level: '))\n",
    "if ph < 7.0:\n",
    "    print(ph, \" is acidic.\") #indentation important\n",
    "\n",
    "if ph > 7.0:\n",
    "    print(ph, \" is basic.\") \n",
    "```\n",
    "\n",
    "```python\n",
    "ph = float(input('Enter the pH level: '))\n",
    "if ph < 7.0:\n",
    "    print(ph, \" is acidic.\") #indentation important\n",
    "elif ph > 7.0:\n",
    "    print(ph, \" is basic.\") \n",
    "```\n",
    "\n",
    "```python\n",
    "ph = float(input('Enter the pH level: '))\n",
    "if ph < 7.0:\n",
    "    ph = 8.0 #indentation important\n",
    "\n",
    "if ph > 7.0:\n",
    "    print(ph, \" is basic.\") \n",
    "```\n",
    "\n",
    "\n",
    "```python\n",
    "ph = float(input('Enter the pH level: '))\n",
    "if ph < 7.0:\n",
    "    ph = 8.0  #indentation important\n",
    "elif ph > 7.0:\n",
    "    print(ph, \" is basic.\") \n",
    "```\n",
    "\n",
    "\n",
    "```python\n",
    "ph = float(input('Enter the pH level: '))\n",
    "if ph < 7.0:\n",
    "    ph = 8.0  #indentation important\n",
    "elif ph > 7.0:\n",
    "    print(ph, \" is basic.\") \n",
    "```\n",
    "\n",
    "```python\n",
    "compound = input('Enter the compound: ')\n",
    "if compound == 'H20':\n",
    "    print('Water')\n",
    "elif compound == 'NH3':\n",
    "    print('Ammonia')\n",
    "elif compound == 'CH4':\n",
    "    print('Methane')\n",
    "else:\n",
    "    print('Unknown compound')\n",
    "\n",
    "\n",
    "```\n",
    "\n",
    "\n",
    "## Nested if statements\n",
    "```python\n",
    "value = input('Enter the pH level: ')\n",
    "if len(value) > 0:\n",
    "    ph = float(value) \n",
    "    if ph < 7.0:\n",
    "        print(ph, \" is acidic.\")\n",
    "    elif ph > 7.0:\n",
    "        print(ph, \" is basic.\")\n",
    "    else:\n",
    "        print(ph, \" is neutral.\")\n",
    "\n",
    "else:\n",
    "    print('No pH value was given!')\n",
    "\n",
    "```\n",
    "\n",
    "\n",
    "```python\n",
    "if age < 45:\n",
    "    if bmi < 22.0:\n",
    "        risk = 'low'\n",
    "    else:\n",
    "        risk = 'medium'\n",
    "else:\n",
    "    if bmi < 22.0:\n",
    "        risk = 'medium'\n",
    "    else:\n",
    "        risk = 'high'\n",
    "\n",
    "```\n",
    "\n",
    "```python\n",
    "young = age < 45\n",
    "slim = bmi < 22.0\n",
    "if young:\n",
    "    if slim:\n",
    "        risk = 'low'\n",
    "    else:\n",
    "        risk = 'medium'\n",
    "else:\n",
    "    if slim:\n",
    "        risk = 'medium'\n",
    "    else:\n",
    "        risk = 'high'\n",
    "```\n",
    "\n",
    "```python\n",
    "young = age < 45\n",
    "slim = bmi < 22.0\n",
    "if young and slim:\n",
    "    risk = 'low'\n",
    "elif young and not slim :\n",
    "    risk = 'medium'\n",
    "elif not young and slim:\n",
    "    risk = 'medium'\n",
    "elif not you and not slim:\n",
    "    risk = 'high'\n",
    "```\n",
    "\n",
    "- What is wrong with the following code?\n",
    "```python\n",
    "ph = 2\n",
    "if ph < 7.0:\n",
    "    print(ph, ' is acidic')\n",
    "elif ph < 3.0:\n",
    "    print(ph, ' is VERY acidic! Be careful.')\n",
    "```\n",
    "\n",
    "```python\n",
    "# Implement the min() function for three inputs\n",
    "\n",
    "def my_min():\n",
    "  number1 = int(input('Enter first integer: '))\n",
    "  number2 = int(input('Enter second integer: '))\n",
    "  number3 = int(input('Enter third integer: '))\n",
    "\n",
    "  minimum = number1  \n",
    "\n",
    "  if number2 < minimum:\n",
    "      minimum = number2\n",
    "\n",
    "  if number3 < minimum:\n",
    "      minimum = number3\n",
    "\n",
    "  print('Minimum value is', minimum)\n",
    "```\n",
    "\n",
    "\n",
    "https://www.analyzemath.com/Equations/solve-quadratic-equations-using-discriminants.html"
   ]
  }
 ],
 "metadata": {
  "jupytext": {
   "formats": "md:myst",
   "text_representation": {
    "extension": ".md",
    "format_name": "myst"
   }
  },
  "kernelspec": {
   "display_name": "Python 3",
   "language": "python",
   "name": "python3"
  },
  "language_info": {
   "codemirror_mode": {
    "name": "ipython",
    "version": 3
   },
   "file_extension": ".py",
   "mimetype": "text/x-python",
   "name": "python",
   "nbconvert_exporter": "python",
   "pygments_lexer": "ipython3",
   "version": "3.9.7"
  },
  "source_map": [
   11,
   50,
   54,
   58,
   62,
   67,
   72,
   76,
   80,
   85,
   89,
   91
  ]
 },
 "nbformat": 4,
 "nbformat_minor": 5
}