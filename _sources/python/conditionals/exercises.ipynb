{
 "cells": [
  {
   "cell_type": "markdown",
   "id": "bf50b2c8",
   "metadata": {},
   "source": [
    "# Exercises\n",
    "\n",
    "## Exercise 1 \n",
    "Write a program to prompt the user for temperature in Celsius, convert the temperature to Fahrenheit, and print temperature in Fahrenheit."
   ]
  },
  {
   "cell_type": "code",
   "execution_count": 1,
   "id": "51e3bf5a",
   "metadata": {},
   "outputs": [
    {
     "ename": "StdinNotImplementedError",
     "evalue": "raw_input was called, but this frontend does not support input requests.",
     "output_type": "error",
     "traceback": [
      "\u001b[0;31m---------------------------------------------------------------------------\u001b[0m",
      "\u001b[0;31mStdinNotImplementedError\u001b[0m                  Traceback (most recent call last)",
      "Input \u001b[0;32mIn [1]\u001b[0m, in \u001b[0;36m<cell line: 1>\u001b[0;34m()\u001b[0m\n\u001b[0;32m----> 1\u001b[0m celsius \u001b[38;5;241m=\u001b[39m \u001b[38;5;28mfloat\u001b[39m(\u001b[38;5;28;43minput\u001b[39;49m\u001b[43m(\u001b[49m\u001b[38;5;124;43m\"\u001b[39;49m\u001b[38;5;124;43mWhat is the Celsius temperature? \u001b[39;49m\u001b[38;5;124;43m\"\u001b[39;49m\u001b[43m)\u001b[49m)\n\u001b[1;32m      2\u001b[0m fahrenheit \u001b[38;5;241m=\u001b[39m \u001b[38;5;241m9\u001b[39m\u001b[38;5;241m/\u001b[39m\u001b[38;5;241m5\u001b[39m \u001b[38;5;241m*\u001b[39m celsius \u001b[38;5;241m+\u001b[39m \u001b[38;5;241m32\u001b[39m\n\u001b[1;32m      3\u001b[0m \u001b[38;5;28mprint\u001b[39m(\u001b[38;5;124m\"\u001b[39m\u001b[38;5;124mThe temperature is\u001b[39m\u001b[38;5;124m\"\u001b[39m, fahrenheit, \u001b[38;5;124m\"\u001b[39m\u001b[38;5;124mdegrees Fahrenheit.\u001b[39m\u001b[38;5;124m\"\u001b[39m)\n",
      "File \u001b[0;32m~/anaconda3/lib/python3.9/site-packages/ipykernel/kernelbase.py:1072\u001b[0m, in \u001b[0;36mKernel.raw_input\u001b[0;34m(self, prompt)\u001b[0m\n\u001b[1;32m   1065\u001b[0m \u001b[38;5;124;03m\"\"\"Forward raw_input to frontends\u001b[39;00m\n\u001b[1;32m   1066\u001b[0m \n\u001b[1;32m   1067\u001b[0m \u001b[38;5;124;03mRaises\u001b[39;00m\n\u001b[1;32m   1068\u001b[0m \u001b[38;5;124;03m------\u001b[39;00m\n\u001b[1;32m   1069\u001b[0m \u001b[38;5;124;03mStdinNotImplementedError if active frontend doesn't support stdin.\u001b[39;00m\n\u001b[1;32m   1070\u001b[0m \u001b[38;5;124;03m\"\"\"\u001b[39;00m\n\u001b[1;32m   1071\u001b[0m \u001b[38;5;28;01mif\u001b[39;00m \u001b[38;5;129;01mnot\u001b[39;00m \u001b[38;5;28mself\u001b[39m\u001b[38;5;241m.\u001b[39m_allow_stdin:\n\u001b[0;32m-> 1072\u001b[0m     \u001b[38;5;28;01mraise\u001b[39;00m StdinNotImplementedError(\n\u001b[1;32m   1073\u001b[0m         \u001b[38;5;124m\"\u001b[39m\u001b[38;5;124mraw_input was called, but this frontend does not support input requests.\u001b[39m\u001b[38;5;124m\"\u001b[39m\n\u001b[1;32m   1074\u001b[0m     )\n\u001b[1;32m   1075\u001b[0m \u001b[38;5;28;01mreturn\u001b[39;00m \u001b[38;5;28mself\u001b[39m\u001b[38;5;241m.\u001b[39m_input_request(\n\u001b[1;32m   1076\u001b[0m     \u001b[38;5;28mstr\u001b[39m(prompt),\n\u001b[1;32m   1077\u001b[0m     \u001b[38;5;28mself\u001b[39m\u001b[38;5;241m.\u001b[39m_parent_ident[\u001b[38;5;124m\"\u001b[39m\u001b[38;5;124mshell\u001b[39m\u001b[38;5;124m\"\u001b[39m],\n\u001b[1;32m   1078\u001b[0m     \u001b[38;5;28mself\u001b[39m\u001b[38;5;241m.\u001b[39mget_parent(\u001b[38;5;124m\"\u001b[39m\u001b[38;5;124mshell\u001b[39m\u001b[38;5;124m\"\u001b[39m),\n\u001b[1;32m   1079\u001b[0m     password\u001b[38;5;241m=\u001b[39m\u001b[38;5;28;01mFalse\u001b[39;00m,\n\u001b[1;32m   1080\u001b[0m )\n",
      "\u001b[0;31mStdinNotImplementedError\u001b[0m: raw_input was called, but this frontend does not support input requests."
     ]
    }
   ],
   "source": [
    "celsius = float(input(\"What is the Celsius temperature? \"))\n",
    "fahrenheit = 9/5 * celsius + 32\n",
    "print(\"The temperature is\", fahrenheit, \"degrees Fahrenheit.\")"
   ]
  },
  {
   "cell_type": "markdown",
   "id": "1d70ebef",
   "metadata": {},
   "source": [
    "## Exercise 2\n",
    "Modify exercise 1 to print a message when F > 90 and F < 32"
   ]
  },
  {
   "cell_type": "code",
   "execution_count": null,
   "id": "d55ba4ba",
   "metadata": {},
   "outputs": [],
   "source": [
    "celsius = float(input(\"What is the Celsius temperature? \"))\n",
    "fahrenheit = 9/5 * celsius + 32\n",
    "print(\"The temperature is\", fahrenheit, \"degrees Fahrenheit.\")\n",
    "\n",
    "if fahrenheit > 95: # <expr> <relop> <expr>, where <relop> is relation operator\n",
    "    print(\"It's really hot out there. Be careful!\")\n",
    "\n",
    "if fahrenheit < 32: # <expr> <relop> <expr>, where <relop> is relation is operator\n",
    "    print(\"Be sure to dress warmly!\")"
   ]
  },
  {
   "cell_type": "markdown",
   "id": "2b603c71",
   "metadata": {},
   "source": [
    "## Exercise 3 \n",
    "Write a function to calculate the solution to a quadratic equation.\n",
    "https://www.mathsisfun.com/algebra/quadratic-equation.html\n",
    "Prompt the user to the coefficients a, b, and c."
   ]
  },
  {
   "cell_type": "code",
   "execution_count": null,
   "id": "d6aec312",
   "metadata": {},
   "outputs": [],
   "source": [
    "import math\n",
    "print(\"This program finds the real solutions to a quadratic\\n\")\n",
    "a = float(input(\"Enter coefficient a: \"))\n",
    "b = float(input(\"Enter coefficient b: \"))\n",
    "c = float(input(\"Enter coefficient c: \"))\n",
    "disc_root = math.sqrt(b * b -4 * a * c)\n",
    "\n",
    "root1 = (-b + disc_root) / (2 * a)\n",
    "root2 = (-b - disc_root) / (2 * a)\n",
    "\n",
    "print(\"\\nThe solutions are:\", root1, root2)"
   ]
  },
  {
   "cell_type": "markdown",
   "id": "8a855fcf",
   "metadata": {},
   "source": [
    "## Exercise 4 \n",
    "Modify ex3 to add conditionals to print no real roots, double root, roots"
   ]
  },
  {
   "cell_type": "code",
   "execution_count": null,
   "id": "48461b04",
   "metadata": {},
   "outputs": [],
   "source": [
    "import math\n",
    "print(\"This program finds the real solutions to a quadratic\\n\")\n",
    "a = float(input(\"Enter coefficient a: \"))\n",
    "b = float(input(\"Enter coefficient b: \"))\n",
    "c = float(input(\"Enter coefficient c: \"))\n",
    "discrim = b * b -4 * a * c\n",
    "\n",
    "if discrim < 0:\n",
    "    print(\"\\nThe equation has no real roots!\")\n",
    "else:\n",
    "    if discrim == 0:\n",
    "        root = -b / (2 * a)\n",
    "        print(\"\\nThere is a double root at:\", root)\n",
    "    else:\n",
    "        disc_root = math.sqrt(b * b - 4 * a * c)\n",
    "        root1 = (-b + disc_root) / (2 * a)\n",
    "        root2 = (-b - disc_root) / (2 * a)\n",
    "        print(\"\\nThe solutions are:\", root1, root2)"
   ]
  },
  {
   "cell_type": "markdown",
   "id": "62e8e75b",
   "metadata": {},
   "source": [
    "## Exercise 5\n",
    "Prompt user for three  numbers and find the maximum value"
   ]
  },
  {
   "cell_type": "code",
   "execution_count": null,
   "id": "4fcf4425",
   "metadata": {},
   "outputs": [],
   "source": [
    "x = int(input(\"Enter a number: \"))\n",
    "y = int(input(\"Enter another number: \"))\n",
    "z = int(input(\"Enter enter a third number: \"))\n",
    "\n",
    "if x1 >= x2 and x1 >= x3:\n",
    "    maxval = x1\n",
    "elif x2 >= x1 and x2 >= x3:\n",
    "    maxval = x2\n",
    "else:\n",
    "    maxval = x3\n",
    "\n",
    "print(maxval)"
   ]
  },
  {
   "cell_type": "markdown",
   "id": "104935b6",
   "metadata": {},
   "source": [
    "## Exercise 6 \n",
    "Write a program to prompt the user for their user name. \n",
    "If it is 'jdoe', print a log in allowed message; otherwise, print another message"
   ]
  },
  {
   "cell_type": "code",
   "execution_count": null,
   "id": "a9b98af6",
   "metadata": {},
   "outputs": [],
   "source": [
    "username = 'jdoe'\n",
    "\n",
    "if username == 'jdoe':\n",
    "    print('Hi, John.')\n",
    "else:\n",
    "    print('Hello, stranger.')"
   ]
  },
  {
   "cell_type": "markdown",
   "id": "8313b61c",
   "metadata": {},
   "source": [
    "## Exercise 7 \n",
    "Modify ex6 to only allow login if the user is active"
   ]
  },
  {
   "cell_type": "code",
   "execution_count": null,
   "id": "73636f77",
   "metadata": {},
   "outputs": [],
   "source": [
    "active_status = False\n",
    "username = 'jdoe'\n",
    "\n",
    "if username =='jdoe' and active_status:\n",
    "\tprint('Hi, Jone your are allowed to log in!')\n",
    "else:\n",
    "\tprint('You are not allowed to log in!')\n",
    "\n",
    "active_status = True\n",
    "username = 'jdoe'\n",
    "\n",
    "if username =='jdoe' and active_status:\n",
    "\tprint('Hi, Jone your are allowed to log in!')\n",
    "else:\n",
    "\tprint('You are not allowed to log in!')"
   ]
  },
  {
   "cell_type": "markdown",
   "id": "616bca4e",
   "metadata": {},
   "source": [
    "## Exercise 8 \n",
    "Write a program to prompt the user for name and check if it is john or jane"
   ]
  },
  {
   "cell_type": "code",
   "execution_count": null,
   "id": "c4987408",
   "metadata": {},
   "outputs": [],
   "source": [
    "name = input('What is your name? ')\n",
    "if name == 'john':\n",
    "\tprint('Your name is John!')\n",
    "elif name == 'jane':\n",
    "\tprint('Your name is Jane!')\n",
    "\n",
    "\n",
    "name = input('What is your name? ')\n",
    "if name == 'john'.lower():\n",
    "\tprint('Your name is John!')\n",
    "elif name == 'jane'.lower():\n",
    "\tprint('Your name is Jane!')"
   ]
  },
  {
   "cell_type": "markdown",
   "id": "b0d9127e",
   "metadata": {},
   "source": [
    "## Exercise 9\n",
    "Write a program that only allows a user to log in if they are a superuser or if they are are teach and active"
   ]
  },
  {
   "cell_type": "code",
   "execution_count": null,
   "id": "41bf2b82",
   "metadata": {},
   "outputs": [],
   "source": [
    "is_super_user = True\n",
    "is_teacher = True\n",
    "is_active = False\n",
    "\n",
    "if is_super_user or (is_teacher and is_active):\n",
    "\tprint('You can access the system')"
   ]
  },
  {
   "cell_type": "markdown",
   "id": "4c2823bf",
   "metadata": {},
   "source": [
    "## Exercise 10\n",
    "Prompt user for age and check if they are 18 or older"
   ]
  },
  {
   "cell_type": "code",
   "execution_count": null,
   "id": "2d606dd1",
   "metadata": {},
   "outputs": [],
   "source": [
    "age = int(input('What is your age? '))\n",
    "\n",
    "if age >= 18:\n",
    "\tprint('You are older 18 or older')\n",
    "else:\n",
    "\tprint('You are not 18!')"
   ]
  },
  {
   "cell_type": "markdown",
   "id": "30d1ce0c",
   "metadata": {},
   "source": [
    "## Exercise 11\n",
    "Prompt the user for two numbers and see if they are equal"
   ]
  },
  {
   "cell_type": "code",
   "execution_count": null,
   "id": "491b3ec4",
   "metadata": {},
   "outputs": [],
   "source": [
    "number1 = int(input('Please enter a number: '))\n",
    "number2 = int(input('Please enter a number: '))\n",
    "\n",
    "if number1 == number2:\n",
    "\tprint('Both numbers are equal')\n"
   ]
  },
  {
   "cell_type": "markdown",
   "id": "5d394824",
   "metadata": {},
   "source": [
    "## Exercise 12\n",
    "Prompt user to enter a number and check if it is odd or even"
   ]
  },
  {
   "cell_type": "code",
   "execution_count": null,
   "id": "909f3aa2",
   "metadata": {},
   "outputs": [],
   "source": [
    "number = int(input('Please enter a number: '))\n",
    "\n",
    "if number == 0:\n",
    "\tprint('The number is even')\n",
    "elif number % 2 == 0:\n",
    "\tprint('The number is even')\n",
    "else: \n",
    "\tprint('The number is odd')"
   ]
  }
 ],
 "metadata": {
  "jupytext": {
   "formats": "md:myst",
   "text_representation": {
    "extension": ".md",
    "format_name": "myst"
   }
  },
  "kernelspec": {
   "display_name": "Python 3",
   "language": "python",
   "name": "python3"
  },
  "language_info": {
   "codemirror_mode": {
    "name": "ipython",
    "version": 3
   },
   "file_extension": ".py",
   "mimetype": "text/x-python",
   "name": "python",
   "nbconvert_exporter": "python",
   "pygments_lexer": "ipython3",
   "version": "3.9.7"
  },
  "source_map": [
   11,
   20,
   24,
   29,
   39,
   47,
   59,
   65,
   84,
   90,
   103,
   110,
   117,
   123,
   139,
   147,
   160,
   166,
   173,
   179,
   186,
   192,
   199,
   205
  ]
 },
 "nbformat": 4,
 "nbformat_minor": 5
}