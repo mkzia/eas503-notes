{
 "cells": [
  {
   "cell_type": "markdown",
   "id": "8254f2e3",
   "metadata": {},
   "source": [
    "# Fundamentals \n",
    "\n",
    "## Expression and Values: Arithmetic in Python\n",
    "\n",
    "The **syntax** of a computer language is a set of rules that tells you how you can combine **operators** and **operands**/**value** to write legal/correct Python **expressions**. \n",
    "\n",
    "```python\n",
    "3 + 4\n",
    "```\n",
    "\n",
    "In the above expression:\n",
    "- `3` is a value or operand.\n",
    "- `+` is an operator.\n",
    "- `4` is a value or operand.\n",
    "- The whole thing is called an expression. \n",
    "- `3` and `4` are called operands.\n",
    "\n",
    "The expression `3 + 4` is **evaluated** to `7`. When an expression is evaluated, it produces a single value.\n",
    "\n",
    "The operand can be a value or another expression.\n",
    "```python\n",
    "2 - (3 / 5)\n",
    "```\n",
    "In the above expression:\n",
    "- `3` is a value or operand.\n",
    "- `+` is an operator.\n",
    "- `(3 / 5)` is an operand which is an expression made of a values and operators.\n",
    "\n",
    "Expressions do not have to involve an operator.\n",
    "\n",
    "```python\n",
    "212\n",
    "```\n",
    "The above line is consider both an expression and a value."
   ]
  },
  {
   "cell_type": "code",
   "execution_count": 1,
   "id": "403d7548",
   "metadata": {},
   "outputs": [
    {
     "data": {
      "text/plain": [
       "17"
      ]
     },
     "execution_count": 1,
     "metadata": {},
     "output_type": "execute_result"
    }
   ],
   "source": [
    "4 + 13"
   ]
  },
  {
   "cell_type": "markdown",
   "id": "6a9d7008",
   "metadata": {},
   "source": [
    "### Types\n",
    "\n",
    "Every value in Python has a particular data type, and the data types of values determine how they behave when they are combined. Values such as `4` and `7` have data type `int` (short for `integer`). Values such as `2.5` and `17.0` have data type float (short for `floating point`).\n",
    "\n",
    "An expression involving two `floats` produces a `float`:"
   ]
  },
  {
   "cell_type": "code",
   "execution_count": 2,
   "id": "7b62291c",
   "metadata": {},
   "outputs": [
    {
     "data": {
      "text/plain": [
       "7.0"
      ]
     },
     "execution_count": 2,
     "metadata": {},
     "output_type": "execute_result"
    }
   ],
   "source": [
    "17.0 - 10.0"
   ]
  },
  {
   "cell_type": "markdown",
   "id": "3fb4ca95",
   "metadata": {},
   "source": [
    "When an expression's operands are an `int` and a `float`, Python automatically converts `int` to a `float`. That is why the following two expressions return the same answer."
   ]
  },
  {
   "cell_type": "code",
   "execution_count": 3,
   "id": "04af3642",
   "metadata": {},
   "outputs": [
    {
     "data": {
      "text/plain": [
       "7.0"
      ]
     },
     "execution_count": 3,
     "metadata": {},
     "output_type": "execute_result"
    }
   ],
   "source": [
    "17.0 - 10"
   ]
  },
  {
   "cell_type": "code",
   "execution_count": 4,
   "id": "1cd109d2",
   "metadata": {},
   "outputs": [
    {
     "data": {
      "text/plain": [
       "7.0"
      ]
     },
     "execution_count": 4,
     "metadata": {},
     "output_type": "execute_result"
    }
   ],
   "source": [
    "17 - 10.0"
   ]
  },
  {
   "cell_type": "markdown",
   "id": "50827c9e",
   "metadata": {},
   "source": [
    "You can leave out `0` after the decimal, e.g., `10.`, but this is considered bad style. \n",
    "\n",
    "### Arithmetic Operators\n",
    "\n",
    "Table 1 lists the arithmetic operators. \n",
    "\n",
    "![fund_table1](./fund_table1.png)\n",
    "\n",
    "Operators that have two operands are called **binary operators**. Negation is a **unary** operator because it applies to one operand. \n",
    "\n",
    "#### Negation\n",
    "The negation operator simply negates the value"
   ]
  },
  {
   "cell_type": "code",
   "execution_count": 5,
   "id": "1b6a5571",
   "metadata": {},
   "outputs": [
    {
     "data": {
      "text/plain": [
       "-5"
      ]
     },
     "execution_count": 5,
     "metadata": {},
     "output_type": "execute_result"
    }
   ],
   "source": [
    "-5"
   ]
  },
  {
   "cell_type": "code",
   "execution_count": 6,
   "id": "d99e561a",
   "metadata": {},
   "outputs": [
    {
     "data": {
      "text/plain": [
       "5"
      ]
     },
     "execution_count": 6,
     "metadata": {},
     "output_type": "execute_result"
    }
   ],
   "source": [
    "--5"
   ]
  },
  {
   "cell_type": "markdown",
   "id": "a7bb42e9",
   "metadata": {},
   "source": [
    "```python\n",
    "---5\n",
    "```\n",
    "\n",
    "### Addition, Subtraction, Multiplication, and Division\n",
    "The addition, subtraction, multiplication, and division operators are your familiar mathematical operators. One that when the operands are of mixed data type, meaning `int` and `float`, all the resulting value will be a `float`. \n",
    "\n",
    "### Integer Division, Modulo, and Exponentiation \n",
    "To know the integer part of a division result, use the integer division operator. For example, to know how many 24-hour days there are in 53 hours."
   ]
  },
  {
   "cell_type": "code",
   "execution_count": 7,
   "id": "3fc1f0b5",
   "metadata": {},
   "outputs": [
    {
     "data": {
      "text/plain": [
       "2"
      ]
     },
     "execution_count": 7,
     "metadata": {},
     "output_type": "execute_result"
    }
   ],
   "source": [
    "53 // 24"
   ]
  },
  {
   "cell_type": "markdown",
   "id": "184b15a8",
   "metadata": {},
   "source": [
    "To find out how many hours are left over, you can use the modulo operator, which gives the remainder of the division:"
   ]
  },
  {
   "cell_type": "code",
   "execution_count": 8,
   "id": "84cbed01",
   "metadata": {},
   "outputs": [
    {
     "data": {
      "text/plain": [
       "5"
      ]
     },
     "execution_count": 8,
     "metadata": {},
     "output_type": "execute_result"
    }
   ],
   "source": [
    "53 % 24 "
   ]
  },
  {
   "cell_type": "markdown",
   "id": "fd02f491",
   "metadata": {},
   "source": [
    "Python does not round the result of integer division Instead, it takes the floor of the result of the division, which means that it rounds down to the nearest integer:"
   ]
  },
  {
   "cell_type": "code",
   "execution_count": 9,
   "id": "8ebda0b3",
   "metadata": {},
   "outputs": [
    {
     "data": {
      "text/plain": [
       "1"
      ]
     },
     "execution_count": 9,
     "metadata": {},
     "output_type": "execute_result"
    }
   ],
   "source": [
    "17 // 10"
   ]
  },
  {
   "cell_type": "markdown",
   "id": "dbf2e6af",
   "metadata": {},
   "source": [
    "Be careful about using `//` and `%` with negative operands. Python takes the floor of the result of an integer division (`//`)."
   ]
  },
  {
   "cell_type": "code",
   "execution_count": 10,
   "id": "c4e94044",
   "metadata": {},
   "outputs": [
    {
     "data": {
      "text/plain": [
       "1"
      ]
     },
     "execution_count": 10,
     "metadata": {},
     "output_type": "execute_result"
    }
   ],
   "source": [
    "17 // 10"
   ]
  },
  {
   "cell_type": "markdown",
   "id": "cadd8696",
   "metadata": {},
   "source": [
    "For the modulo operator, the sign of the result matches the sign of the divisors (the second operand)"
   ]
  },
  {
   "cell_type": "code",
   "execution_count": 11,
   "id": "58fd20c1",
   "metadata": {},
   "outputs": [
    {
     "data": {
      "text/plain": [
       "3"
      ]
     },
     "execution_count": 11,
     "metadata": {},
     "output_type": "execute_result"
    }
   ],
   "source": [
    "-17 % 10"
   ]
  },
  {
   "cell_type": "code",
   "execution_count": 12,
   "id": "13acba7f",
   "metadata": {},
   "outputs": [
    {
     "data": {
      "text/plain": [
       "7"
      ]
     },
     "execution_count": 12,
     "metadata": {},
     "output_type": "execute_result"
    }
   ],
   "source": [
    "17 % 10"
   ]
  },
  {
   "cell_type": "markdown",
   "id": "51b4d7a7",
   "metadata": {},
   "source": [
    "The following expression calculates 3 raised to the 6th power:"
   ]
  },
  {
   "cell_type": "code",
   "execution_count": 13,
   "id": "64874a6d",
   "metadata": {},
   "outputs": [
    {
     "data": {
      "text/plain": [
       "729"
      ]
     },
     "execution_count": 13,
     "metadata": {},
     "output_type": "execute_result"
    }
   ],
   "source": [
    "3 ** 6"
   ]
  },
  {
   "cell_type": "markdown",
   "id": "73d610ec",
   "metadata": {},
   "source": [
    "### Numbers in Python\n",
    "\n",
    "Python has the following number data types:\n",
    "- `int` - whole number, positive or negative, unlimited\n",
    "- `float` - number with decimals, positive or negative\n",
    "- `complex` - `7+3j`\n",
    "\n",
    "\n",
    "`int` vs `float`\n",
    "- Stored differently\n",
    "- `float` take up a fixed amount of space. `int` take up variable amount of space. \n",
    "- `int` are stored as `bignum` data type behind the scenes. \n",
    "\n",
    "```python\n",
    "import sys\n",
    "sys.getsizeof(2.0)\n",
    "Out[3]: 24\n",
    "sys.getsizeof(2**30)\n",
    "Out[4]: 32\n",
    "sys.getsizeof(2**130)\n",
    "Out[6]: 44\n",
    "```\n",
    "\n",
    "- Both `int` and `float` can store positive and negative numbers\n",
    "- `type()` -- used to figure out which type of data type it is\n",
    "- `float` can only represent approximations to real numbers because computers have finite amount of memory.\n",
    "  - `2/3` vs `1/3`"
   ]
  },
  {
   "cell_type": "code",
   "execution_count": 14,
   "id": "be1162f3",
   "metadata": {},
   "outputs": [
    {
     "data": {
      "text/plain": [
       "0.6666666666666666"
      ]
     },
     "execution_count": 14,
     "metadata": {},
     "output_type": "execute_result"
    }
   ],
   "source": [
    "2 / 3"
   ]
  },
  {
   "cell_type": "code",
   "execution_count": 15,
   "id": "51f8114c",
   "metadata": {},
   "outputs": [
    {
     "data": {
      "text/plain": [
       "1.6666666666666667"
      ]
     },
     "execution_count": 15,
     "metadata": {},
     "output_type": "execute_result"
    }
   ],
   "source": [
    "5 / 3"
   ]
  },
  {
   "cell_type": "markdown",
   "id": "f327f1e1",
   "metadata": {},
   "source": [
    "- If you do not need fraction values, use int.\n",
    "\n",
    "### Working with large numbers\n",
    "`10000000000 + 0.00000000001`\n",
    "The result should have twenty zeros between the first and last significant digit, but that is too many for the computer to store, so the result is just 10000000000—it is as if the addition never took place. Adding lots of small numbers to a large one can therefore have no effect at all, which is not what a bank wants when it totals up the values of its customers’ savings accounts.\n",
    "\n",
    "If you have to add up floating-point numbers, add them from smallest to largest in order to minimize the error.\n",
    "\n",
    "Better yet, use a specialized library (https://mpmath.org/) or (https://github.com/mdickinson/bigfloat)\n",
    "\n",
    "\n",
    "## Operator Precedence\n",
    "PEMDAS - use parenthesis to manipulate the order in which things are calculated. What is `8/2(2+2)`?\n",
    "\n",
    "Precedence:\n",
    "1. Parenthesis\n",
    "1. Exponentiation\n",
    "1. Negation\n",
    "1. Multiplication, division, integer division, and remainder\n",
    "1. Addition and subtraction\n",
    "\n",
    "`212 - 32 * 5 / 9` What is wrong with this expression?\n",
    "\n",
    "It is a good rule to parenthesize complicated expression even when you do not need to. \n",
    "\n",
    "\n",
    "## Variables\n",
    "Variables give names to values (number, string, or boolean). They are a container of information that a computer program will manipulate using a sequence of instructions. Variables names MUST follow certain rules and it is BEST to follow Python guidelines for naming.\n",
    "\n",
    "Restrictions for variable names:\n",
    "1. Start with letter or underscore.\n",
    "2. The rest can have letters, underscore, and numbers.\n",
    "3. symbols cannot be used in name `(@,+)`.\n",
    "4. Don't use Python keywords or reserved words such as `print`, `str`, `int`, `float`.\n",
    " - `int = 3` do `del int` to restore python keyword\n",
    " - `print = Yah` do `del print` to restore Python keyword\n",
    "\n",
    "Conventions for variable names:\n",
    "1. Use snake_case not camelCase for variable and function names.\n",
    "2. Variables should be lowercase.\n",
    "3. Upper case are used for constants `PI = 3.14`.\n",
    "4. UpperCamelCase for classes.\n",
    "5. `__private__`  double underscore is convention that means you are not supposed access this variable directly. They are by convention like private variables in other languages. \n",
    "\n",
    "\n",
    "Variable names are case sensitive, so `ph` and `pH` are two different names.  \n",
    "\n",
    "```python\n",
    "degrees_celsius = 26.0\n",
    "```\n",
    "\n",
    "This is called an assignment statement; we say that `degrees_celsius` is assigned the value `26.0`. Whenever  Python sees a variable in an expression, it substitutes the value to which the variables refers:"
   ]
  },
  {
   "cell_type": "code",
   "execution_count": 16,
   "id": "f2dacfe8",
   "metadata": {},
   "outputs": [
    {
     "data": {
      "text/plain": [
       "78.80000000000001"
      ]
     },
     "execution_count": 16,
     "metadata": {},
     "output_type": "execute_result"
    }
   ],
   "source": [
    "degrees_celsius = 26.0\n",
    "9 / 5 * degrees_celsius + 32"
   ]
  },
  {
   "cell_type": "markdown",
   "id": "ec9dbe0b",
   "metadata": {},
   "source": [
    "Variables are called variables because their value can vary as the program executes."
   ]
  },
  {
   "cell_type": "code",
   "execution_count": 17,
   "id": "e89b89c8",
   "metadata": {},
   "outputs": [
    {
     "data": {
      "text/plain": [
       "59.900000000000006"
      ]
     },
     "execution_count": 17,
     "metadata": {},
     "output_type": "execute_result"
    }
   ],
   "source": [
    "degrees_celsius = 15.5\n",
    "9 / 5 * degrees_celsius + 32"
   ]
  },
  {
   "cell_type": "markdown",
   "id": "da142d8f",
   "metadata": {},
   "source": [
    "## Values, Variables, and Computer Memory\n",
    "\n",
    "- https://pythontutor.com/\n",
    "\n",
    "What happens when execute the following statement:\n",
    "```\n",
    "<<variable>> = <<expression>>\n",
    "```\n",
    "\n",
    "This is executed as follows:\n",
    "1. Evaluate the expression on the right of the `=` sign to produce a value. This value has a memory address. We can call this an object: a value at a memory address with a type. \n",
    "2. Store the memory address of the value in the variable on the left of the `=`. Create a new variable if that name does not already exist; otherwise, just reuse the existing variable, replacing the memory address that it contains. \n",
    "\n",
    "\n",
    "```python\n",
    "difference = 20\n",
    "double = 2 * difference\n",
    "double\n",
    "difference = 5\n",
    "double\n",
    "```\n",
    "\n",
    "\n",
    "```python\n",
    "number = 3\n",
    "number\n",
    "number = 2 * number\n",
    "number\n",
    "number = number * number\n",
    "```\n",
    "\n",
    "\n",
    "## Augmented Assignment\n",
    "\n",
    "An augmented assignment combines an assignment statement with an operator to make the statement more concise. An augmented statement is executed as follows:\n",
    "1. Evaluate the expression on the right of the `=` sign to produce a value. \n",
    "2. Apply the operator attached to the `=` sign to the variable on the left of the `=` and the value that was produced. This produces another value. Store the memory \n",
    "address of that value in the variable on the left of the `=`. \n",
    "\n",
    "![fund_table2](./fund_table2.png)\n",
    "\n",
    "\n",
    "## How Python Tells You Something Went Wrong\n",
    "\n",
    "There are two kinds of errors in Python: **syntax errors** and **semantic errors**.\n",
    "- **syntax errors** occur when you type invalid code, such as using a variable before it has been defined. \n",
    "- **semantic errors** occur when you tell Python to do something that it cannot do, such as divide by zero. \n",
    "\n",
    "```python\n",
    "3 + moogah\n",
    "```\n",
    "\n",
    "```python\n",
    "2 + \n",
    "```\n",
    "\n",
    "```python\n",
    "12 = x\n",
    "```\n",
    "\n",
    "\n",
    "## A Single Statement That Spans Multiple Lines\n",
    "\n",
    "If a single statement becomes too big, you can have it span multiple lines by either surrounded the statement by parenthesis or using the line-continuation character, which is a \\.\n",
    "\n",
    "```python\n",
    "(2 +\n",
    "3)\n",
    "```\n",
    "\n",
    "```python\n",
    "2 + \\\n",
    "3\n",
    "```\n",
    "\n",
    "## Describing Code\n",
    "\n",
    "Sometimes it is helpful to write comments describing your code. Any time Python encounters the `#` character it ignores the rest of the line. \n",
    "```python\n",
    "x * (x + 1) # secret formula\n",
    "```\n",
    "\n",
    "You can have multiline comments by surrounding your comments using triple quotes, either single quotes (`'`) or double quotes (`\"`)\n",
    "```python\n",
    "\"\"\"\n",
    "This is a multiline comment. \n",
    "Test 1234\n",
    "\"\"\"\n",
    "x * (x + 1)\n",
    "```\n",
    "\n",
    "```python\n",
    "'''\n",
    "This is a multiline comment. \n",
    "Test 1234\n",
    "'''\n",
    "x * (x + 1)\n",
    "```\n",
    "\n",
    "## Simultaneous Assignment\n",
    "- Useful when you want to swap values. So instead of doing this:\n",
    "\n",
    "\n",
    "``` Python\n",
    "  temp = x\n",
    "  x = y\n",
    "  y = temp\n",
    "```\n",
    "\n",
    "```python\n",
    "x, y = y, x\n",
    "```\n",
    "\n",
    "`sum, diff = x+y, x-y` -- simultaneous assignment \n",
    "\n",
    "\n",
    "## Review\n",
    "- Programs are made up of statements, or instructions. These can be simple expressions like 3 + 4 and assignment statements like celsius = 20 (which create new variables or change the values of existing ones). There are many other kinds of statements in Python, and we’ll introduce them throughout the book.\n",
    "- Every value in Python has a specific type, which determines what operations can be applied to it. The two types used to represent numbers are int and float. Floating-point numbers are approximations to real numbers.\n",
    "- Python evaluates an expression by applying higher-precedence operators before lower-precedence operators. You can change that order by putting parentheses around subexpressions.\n",
    "- Python stores every value in computer memory. A memory location containing a value is called an object.\n",
    "- Variables are created by executing assignment statements. If a variable already exists because of a previous assignment statement, Python will use that one instead of creating a new one.\n",
    "- Variables contain memory addresses of values. We say that variables refer to values.\n",
    "- Variables must be assigned values before they can be used in expressions."
   ]
  }
 ],
 "metadata": {
  "jupytext": {
   "formats": "md:myst",
   "text_representation": {
    "extension": ".md",
    "format_name": "myst"
   }
  },
  "kernelspec": {
   "display_name": "Python 3",
   "language": "python",
   "name": "python3"
  },
  "language_info": {
   "codemirror_mode": {
    "name": "ipython",
    "version": 3
   },
   "file_extension": ".py",
   "mimetype": "text/x-python",
   "name": "python",
   "nbconvert_exporter": "python",
   "pygments_lexer": "ipython3",
   "version": "3.9.7"
  },
  "source_map": [
   11,
   48,
   50,
   57,
   59,
   63,
   67,
   69,
   84,
   88,
   90,
   102,
   104,
   108,
   110,
   115,
   117,
   120,
   122,
   125,
   129,
   131,
   136,
   138,
   167,
   171,
   173,
   228,
   231,
   235,
   238
  ]
 },
 "nbformat": 4,
 "nbformat_minor": 5
}